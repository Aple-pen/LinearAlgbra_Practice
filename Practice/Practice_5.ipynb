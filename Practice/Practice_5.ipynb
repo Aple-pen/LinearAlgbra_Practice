{
 "cells": [
  {
   "cell_type": "code",
   "execution_count": 1,
   "metadata": {
    "collapsed": true
   },
   "outputs": [],
   "source": [
    "#연습문제 5-1\n",
    "import numpy as np\n",
    "\n",
    "def FrobeniusNorm(a):\n",
    "    return np.sqrt(np.trace(a.T @ a))\n",
    "\n",
    "matrix_list = []\n",
    "\n",
    "for i in range(40):\n",
    "    array_list = []\n",
    "    for i in range(10):\n",
    "        norm = FrobeniusNorm(np.random.randint(1,10,(10,10)))\n",
    "        array_list.append(norm)\n",
    "    row = np.array(array_list) * np.random.randint(0,50)\n",
    "    matrix_list.append(row);\n",
    "\n",
    "result_matrix = np.array(matrix_list)"
   ]
  },
  {
   "cell_type": "code",
   "execution_count": 3,
   "outputs": [
    {
     "name": "stdout",
     "output_type": "stream",
     "text": [
      "0.00785516721127895 46\n"
     ]
    }
   ],
   "source": [
    "# 연습문제 5-2\n",
    "import numpy as np\n",
    "\n",
    "# 두 행렬사이의 프로베니우스 거리를 반환하는 함수\n",
    "def FrobeniusDistance(matrix_a,matrix_b):\n",
    "    return np.linalg.norm(matrix_a-matrix_b,\"fro\")\n",
    "\n",
    "\n",
    "N = 7;\n",
    "\n",
    "s = 1;\n",
    "cnt = 0;\n",
    "a = np.random.randint(1,50,(N,N))\n",
    "b = np.random.randint(1,50,(N,N))\n",
    "\n",
    "while True:\n",
    "\n",
    "    if(FrobeniusDistance(a*s,b*s) >= 1) :\n",
    "        s *= 0.9\n",
    "        cnt += 1\n",
    "    else:\n",
    "        break;\n",
    "\n",
    "\n",
    "print(s,cnt)"
   ],
   "metadata": {
    "collapsed": false
   }
  },
  {
   "cell_type": "code",
   "execution_count": null,
   "outputs": [],
   "source": [],
   "metadata": {
    "collapsed": false
   }
  }
 ],
 "metadata": {
  "kernelspec": {
   "display_name": "Python 3",
   "language": "python",
   "name": "python3"
  },
  "language_info": {
   "codemirror_mode": {
    "name": "ipython",
    "version": 2
   },
   "file_extension": ".py",
   "mimetype": "text/x-python",
   "name": "python",
   "nbconvert_exporter": "python",
   "pygments_lexer": "ipython2",
   "version": "2.7.6"
  }
 },
 "nbformat": 4,
 "nbformat_minor": 0
}
