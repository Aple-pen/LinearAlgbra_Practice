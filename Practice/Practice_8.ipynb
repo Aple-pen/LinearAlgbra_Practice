{
 "cells": [
  {
   "cell_type": "markdown",
   "source": [
    "## 연습문제 8-3\n",
    "6x6난수 행렬의 QR분해로부터 U라는 직교 행렬을 만든다.\n",
    "U의 QR 분해를 계산하고 R = I임을 확인한다."
   ],
   "metadata": {
    "collapsed": false
   }
  },
  {
   "cell_type": "code",
   "execution_count": 8,
   "metadata": {
    "collapsed": true
   },
   "outputs": [
    {
     "name": "stdout",
     "output_type": "stream",
     "text": [
      "[[-0.64503568 -0.68335246  0.67317197  0.42703644 -0.49973356 -0.39771768]\n",
      " [ 0.40757847 -0.47708674 -0.92056678 -0.22990158 -0.1448483  -1.65784017]\n",
      " [-1.43172216 -0.01988569  0.7493534  -1.05621003 -0.21631121 -1.30305606]\n",
      " [-0.32851217 -1.82250264  3.15701365 -2.20906121 -0.27051228  0.38427174]\n",
      " [-0.40260216  0.03533916 -0.67247897  0.3301374  -1.38959674  0.3557868 ]\n",
      " [ 2.95929258  1.49871069  0.09871713 -1.31937334 -1.74292467 -0.957724  ]]\n",
      "True\n"
     ]
    }
   ],
   "source": [
    "import numpy as np\n",
    "\n",
    "A = np.random.randn(6,6)\n",
    "print(A)\n",
    "U,R = np.linalg.qr(A)\n",
    "Q,_R = np.linalg.qr(U)\n",
    "\n",
    "print(np.allclose(_R,np.eye(6))) # True라면 Identity Matrix 가 맞다."
   ]
  },
  {
   "cell_type": "code",
   "execution_count": null,
   "outputs": [],
   "source": [],
   "metadata": {
    "collapsed": false
   }
  }
 ],
 "metadata": {
  "kernelspec": {
   "display_name": "Python 3",
   "language": "python",
   "name": "python3"
  },
  "language_info": {
   "codemirror_mode": {
    "name": "ipython",
    "version": 2
   },
   "file_extension": ".py",
   "mimetype": "text/x-python",
   "name": "python",
   "nbconvert_exporter": "python",
   "pygments_lexer": "ipython2",
   "version": "2.7.6"
  }
 },
 "nbformat": 4,
 "nbformat_minor": 0
}
