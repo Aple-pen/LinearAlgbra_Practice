{
 "cells": [
  {
   "cell_type": "markdown",
   "source": [
    "# 직교 행렬과 QR 분해\n",
    "## 1. 직교 행렬\n",
    "직교행렬은 QR분해, 고윳값 분해, 특잇값 분해등 여러가지 분해에 필수적인 특수 행렬이다.\n",
    "문자 Q는 종종 직교행렬을 나타내는 데 사용된다. 직교 행렬은 두가지 속성을 가진다.\n",
    "### 직교열\n",
    "    - 행렬의 모든 열은 서로 직교한다.\n",
    "### 단위노름 열\n",
    "    - 각 열의 노름은 정확히 1이다.\n",
    "모든 열은 자기 자신과의 내적은 1이지만 다른 열과의 내적은 0이다.\n",
    "\n",
    "직교행렬 Q는 아래 조건을 만족한다.\n",
    "$$ Q^T Q = I $$"
   ],
   "metadata": {
    "collapsed": false
   }
  },
  {
   "cell_type": "code",
   "execution_count": 5,
   "metadata": {
    "collapsed": true
   },
   "outputs": [
    {
     "name": "stdout",
     "output_type": "stream",
     "text": [
      "[[1.00000000e+00 2.23711432e-17]\n",
      " [2.23711432e-17 1.00000000e+00]]\n",
      "[[ 1.00000000e+00 -2.23711432e-17]\n",
      " [-2.23711432e-17  1.00000000e+00]]\n",
      "[[1.00000000e+00 2.46716228e-17 1.54197642e-17]\n",
      " [2.46716228e-17 1.00000000e+00 1.23358114e-17]\n",
      " [1.54197642e-17 1.23358114e-17 1.00000000e+00]]\n",
      "[[ 1.00000000e+00  2.46716228e-17 -1.54197642e-17]\n",
      " [ 2.46716228e-17  1.00000000e+00 -1.23358114e-17]\n",
      " [-1.54197642e-17 -1.23358114e-17  1.00000000e+00]]\n"
     ]
    }
   ],
   "source": [
    "import numpy as np\n",
    "Q1 = np.array([[1,-1],[1,1]]) / np.sqrt(2)\n",
    "Q2 = np.array([[1,2,2],[2,1,-2],[-2,2,-1]]) / 3\n",
    "print(Q1.T @ Q1)\n",
    "print(Q1 @ Q1.T)\n",
    "\n",
    "print(Q2.T @ Q2)\n",
    "print(Q2 @ Q2.T)\n"
   ]
  },
  {
   "cell_type": "markdown",
   "source": [
    "순수 회전 행렬도 직교행렬이다."
   ],
   "metadata": {
    "collapsed": false
   }
  },
  {
   "cell_type": "code",
   "execution_count": 25,
   "outputs": [
    {
     "name": "stdout",
     "output_type": "stream",
     "text": [
      "[[1.00000000e+00 4.26642159e-17]\n",
      " [4.26642159e-17 1.00000000e+00]]\n"
     ]
    }
   ],
   "source": [
    "import numpy as np\n",
    "import matplotlib.pyplot as plt\n",
    "\n",
    "origin = np.array([[0,0],[0,0]])\n",
    "theta = np.radians(45)\n",
    "Q1 = np.array([[np.cos(theta),np.sin(theta)],[-np.sin(theta),np.cos(theta)]])\n",
    "\n",
    "print(Q1.T @ Q1)"
   ],
   "metadata": {
    "collapsed": false
   }
  },
  {
   "cell_type": "code",
   "execution_count": null,
   "outputs": [],
   "source": [],
   "metadata": {
    "collapsed": false
   }
  }
 ],
 "metadata": {
  "kernelspec": {
   "display_name": "Python 3",
   "language": "python",
   "name": "python3"
  },
  "language_info": {
   "codemirror_mode": {
    "name": "ipython",
    "version": 2
   },
   "file_extension": ".py",
   "mimetype": "text/x-python",
   "name": "python",
   "nbconvert_exporter": "python",
   "pygments_lexer": "ipython2",
   "version": "2.7.6"
  }
 },
 "nbformat": 4,
 "nbformat_minor": 0
}
