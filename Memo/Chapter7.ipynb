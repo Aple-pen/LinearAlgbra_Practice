{
 "cells": [
  {
   "cell_type": "markdown",
   "source": [
    "# 역행렬(Inverse Matrix)\n",
    "역행렬 $(A^{-1})$은 주어진 정방행렬 A에 대해 다음 관계를 만족하는 행렬이다.\n",
    "$$ AA^{-1} = A^{-1}A = I $$\n",
    "여기서 $I$는 단위행렬(Identity Matrix)이다.\n",
    "\n",
    "### 역행렬이 존재하는 조건\n",
    "1. 행렬 A가 정방행렬이어야 한다.\n",
    "2. 행렬의 행렬식이 0이 아니어야 한다."
   ],
   "metadata": {
    "collapsed": false
   }
  },
  {
   "cell_type": "code",
   "execution_count": 6,
   "metadata": {
    "collapsed": true
   },
   "outputs": [
    {
     "name": "stdout",
     "output_type": "stream",
     "text": [
      "행렬 A : \n",
      "[[4 7]\n",
      " [2 6]]\n",
      "\n",
      " 역행렬 A^-1 : \n",
      "[[ 0.6 -0.7]\n",
      " [-0.2  0.4]]\n",
      "[[ 1.00000000e+00 -1.11022302e-16]\n",
      " [ 1.11022302e-16  1.00000000e+00]]\n"
     ]
    }
   ],
   "source": [
    "import numpy as np\n",
    "# 2 x 2 행렬 정의\n",
    "A = np.array([[4,7],[2,6]])\n",
    "\n",
    "# 역행렬 계산\n",
    "A_inv = np.linalg.inv(A)\n",
    "\n",
    "#결과 출력\n",
    "print(\"행렬 A : \")\n",
    "print(A)\n",
    "print(\"\\n 역행렬 A^-1 : \")\n",
    "print(A_inv)\n",
    "\n",
    "print(A @ A_inv)"
   ]
  },
  {
   "cell_type": "markdown",
   "source": [
    "## 축소계수 행렬 계산\n",
    "### 가우스 조던 소거법으로 도출 가능\n",
    "#### 축소 계수 행렬의 정의\n",
    "1. 각 행의 첫번째 0이 아닌 원소는 1이어야 한다.\n",
    "2. 선행 1이 있는 나머지 열의 나머지원소는 모두 0이어야 한다.\n",
    "3. 선행 1은 위에서 아래로 이동할수록 점점 오른쪽으로 정렬되어야 한다.\n",
    "4. 0이 아닌 행은 항상 위쪽에 위치해야한다."
   ],
   "metadata": {
    "collapsed": false
   }
  },
  {
   "cell_type": "code",
   "execution_count": 9,
   "outputs": [
    {
     "name": "stdout",
     "output_type": "stream",
     "text": [
      "[[1 0 0 0]\n",
      " [0 1 0 2]\n",
      " [0 0 1 1]]\n"
     ]
    }
   ],
   "source": [
    "import numpy as np\n",
    "from sympy import Matrix\n",
    "\n",
    "A = np.array([\n",
    "    [1,2,-1,3],\n",
    "    [2,3,1,7],\n",
    "    [3,1,2,4]\n",
    "])\n",
    "\n",
    "A_reduced = Matrix(A).rref()\n",
    "\n",
    "print(np.array(A_reduced[0]))"
   ],
   "metadata": {
    "collapsed": false
   }
  },
  {
   "cell_type": "markdown",
   "source": [
    "## 왼쪽 역행렬 계산\n",
    "행렬 A(3x2)일때 열이 2개 -> 열 벡터가 선형 독립이면 왼쪽 역행렬이 존재함.\n"
   ],
   "metadata": {
    "collapsed": false
   }
  },
  {
   "cell_type": "code",
   "execution_count": 14,
   "outputs": [
    {
     "name": "stdout",
     "output_type": "stream",
     "text": [
      "[[1 2]\n",
      " [3 4]\n",
      " [5 6]]\n",
      "A.T @ A\n",
      "[[35 44]\n",
      " [44 56]]\n",
      "왼쪽 역행렬 (Left Inverse):\n",
      "[[-1.33333333 -0.33333333  0.66666667]\n",
      " [ 1.08333333  0.33333333 -0.41666667]]\n",
      "[[1.00000000e+00 1.33226763e-14]\n",
      " [2.66453526e-15 1.00000000e+00]]\n"
     ]
    }
   ],
   "source": [
    "import numpy as np\n",
    "\n",
    "A = np.array([\n",
    "    [1, 2],\n",
    "    [3, 4],\n",
    "    [5, 6]\n",
    "])\n",
    "# Left Inverse (A_L^-1 = (A^T A)^-1 A^T)\n",
    "A_left_inv = np.linalg.inv(A.T @ A) @ A.T\n",
    "\n",
    "print(\"왼쪽 역행렬 (Left Inverse):\")\n",
    "print(A_left_inv)\n",
    "print(\"결과가 단위행렬이 되는지 검증\")\n",
    "print(A_left_inv @ A)\n"
   ],
   "metadata": {
    "collapsed": false
   }
  },
  {
   "cell_type": "markdown",
   "source": [
    "## 오른쪽 역행렬 계산"
   ],
   "metadata": {
    "collapsed": false
   }
  },
  {
   "cell_type": "code",
   "execution_count": 17,
   "outputs": [
    {
     "name": "stdout",
     "output_type": "stream",
     "text": [
      "오른쪽 역행렬 (Right Inverse) : \n",
      "[[-0.94444444  0.44444444]\n",
      " [-0.11111111  0.11111111]\n",
      " [ 0.72222222 -0.22222222]]\n",
      "결과가 단위행렬이 되는지 검증\n",
      "[[1. 0.]\n",
      " [0. 1.]]\n"
     ]
    }
   ],
   "source": [
    "B = np.array([\n",
    "    [1, 2, 3],\n",
    "    [4, 5, 6]\n",
    "])\n",
    "\n",
    "B_right_inv = B.T @ np.linalg.inv(B @ B.T)\n",
    "print(\"오른쪽 역행렬 (Right Inverse) : \")\n",
    "print(B_right_inv)\n",
    "print(\"결과가 단위행렬이 되는지 검증\")\n",
    "print(B@B_right_inv)"
   ],
   "metadata": {
    "collapsed": false
   }
  },
  {
   "cell_type": "code",
   "execution_count": 20,
   "outputs": [
    {
     "name": "stdout",
     "output_type": "stream",
     "text": [
      "무어-펜로즈 의사역행렬:\n",
      "[[-1.33333333 -0.33333333  0.66666667]\n",
      " [ 1.08333333  0.33333333 -0.41666667]]\n",
      "[[ 1.0000000e+00 -4.4408921e-16]\n",
      " [ 0.0000000e+00  1.0000000e+00]]\n"
     ]
    }
   ],
   "source": [
    "import numpy as np\n",
    "\n",
    "A = np.array([[1, 2], [3, 4], [5, 6]])  # 3x2 행렬\n",
    "A_pinv = np.linalg.pinv(A)\n",
    "\n",
    "print(\"무어-펜로즈 의사역행렬:\")\n",
    "print(A_pinv)\n",
    "print(A_pinv @ A)"
   ],
   "metadata": {
    "collapsed": false
   }
  },
  {
   "cell_type": "code",
   "execution_count": null,
   "outputs": [],
   "source": [],
   "metadata": {
    "collapsed": false
   }
  }
 ],
 "metadata": {
  "kernelspec": {
   "display_name": "Python 3",
   "language": "python",
   "name": "python3"
  },
  "language_info": {
   "codemirror_mode": {
    "name": "ipython",
    "version": 2
   },
   "file_extension": ".py",
   "mimetype": "text/x-python",
   "name": "python",
   "nbconvert_exporter": "python",
   "pygments_lexer": "ipython2",
   "version": "2.7.6"
  }
 },
 "nbformat": 4,
 "nbformat_minor": 0
}
