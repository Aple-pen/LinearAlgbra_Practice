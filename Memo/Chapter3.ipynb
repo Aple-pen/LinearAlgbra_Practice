{
 "cells": [
  {
   "cell_type": "markdown",
   "source": [
    "# k-평균 클러스터링\n",
    "주어진 데이터를 미리 정해진 k개의 군집(cluster)으로 분할하는 비지도 학습 알고리즘이다.\n",
    "이 알고리즘은 각 군집의 중심(centroid)을 구하고, 데이터 포인트가 가장 가까운 중심에 할당되도록 반복적으로 업데이트하는 과정을 통해 군집을 형성한다.\n",
    "\n",
    "## 기본 개념\n",
    "- 목적 :\n",
    "데이터 내에서 비슷한 특성을 가진 데이터를 하나의 그룹으로 묶어, 군집 내의 데이터간 거리를 최소화하고 군집 간 거리를 최대화 하는것이 목표이다.\n",
    "- 거리 측정 :\n",
    "보통 유클리드 거리를 사용하여 각 데이터 포인트와 군집 중심 간의 거리를 계산한다.\n",
    "$$ d(x,y) = ||x-\\mu||_2 $$\n",
    "여기서 $ x $ 는 데이터 포인트, $ \\mu $ 는 군집 중심이다.\n",
    "- 목표 함수 :\n",
    "k-평균 클러스터링은 모든 데이터 포인트에 대해 각 포인트와 할당된 군집 중심 사이의 제곱거리의 합을 최소화하려고 한다.\n",
    "$$ min_c \\sum_{j=1}^k \\sum_{x \\in C_j} || x - \\mu_j||^2 $$\n",
    "$C_j$ 는 j 번째 군집, $\\mu_j$는 j번째 군집의 중심이다."
   ],
   "metadata": {
    "collapsed": false
   }
  },
  {
   "cell_type": "code",
   "execution_count": null,
   "metadata": {
    "collapsed": true,
    "pycharm": {
     "is_executing": true
    }
   },
   "outputs": [],
   "source": []
  },
  {
   "cell_type": "code",
   "execution_count": null,
   "outputs": [],
   "source": [],
   "metadata": {
    "collapsed": false
   }
  }
 ],
 "metadata": {
  "kernelspec": {
   "display_name": "Python 3",
   "language": "python",
   "name": "python3"
  },
  "language_info": {
   "codemirror_mode": {
    "name": "ipython",
    "version": 2
   },
   "file_extension": ".py",
   "mimetype": "text/x-python",
   "name": "python",
   "nbconvert_exporter": "python",
   "pygments_lexer": "ipython2",
   "version": "2.7.6"
  }
 },
 "nbformat": 4,
 "nbformat_minor": 0
}
