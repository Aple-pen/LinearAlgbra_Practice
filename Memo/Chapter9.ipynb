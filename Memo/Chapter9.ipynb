{
 "cells": [
  {
   "cell_type": "markdown",
   "source": [
    "# 행 축소와 LU 분해"
   ],
   "metadata": {
    "collapsed": false
   }
  },
  {
   "cell_type": "markdown",
   "source": [
    "## 행 축소\n",
    "행 축소는 방정식을 수작업으로 푸는 방식으로 오랫동안 인정받아 왔기 때문에 전통적인 선형대수학에서 많은 관심을 받는 주제이다.\n",
    "실제로 데이터 과학자로 일하면서 연립방정식을 손으로 직접 풀일은 없겠지만, LU분해로 직결되기 때문에 행 축소는  유용하다.\n",
    "\n",
    "행 축소(row reduction)란 행렬의 행에 스칼라 곱셈과 덧셈이라는 두 가지 연산을 반복적으로 적용하는 작업이다.\n",
    "행 축소는 하나의 연립방정식 내에서 하나의 방정식을 다른 방정식에 더하는것과 동일한 원리를 사용한다.\n",
    "\n"
   ],
   "metadata": {
    "collapsed": false
   }
  },
  {
   "cell_type": "code",
   "execution_count": 12,
   "outputs": [
    {
     "data": {
      "text/plain": "Matrix([\n[1, 0, 1.33333333333333],\n[0, 1, 2.66666666666667]])",
      "text/latex": "$\\displaystyle \\left[\\begin{matrix}1 & 0 & 1.33333333333333\\\\0 & 1 & 2.66666666666667\\end{matrix}\\right]$"
     },
     "execution_count": 12,
     "metadata": {},
     "output_type": "execute_result"
    }
   ],
   "source": [
    "import sympy as sym\n",
    "import numpy as np\n",
    "#sympy 로 행렬 변환\n",
    "M = np.array([[1,1,4],[-1/2,1,2]])\n",
    "symMat = sym.Matrix(M)\n",
    "\n",
    "#RREF\n",
    "symMat.rref()[0]"
   ],
   "metadata": {
    "collapsed": false
   }
  },
  {
   "cell_type": "markdown",
   "source": [
    "## LU 분해\n",
    "LU 분해에서 LU는 하삼각, 상삼각에서와 같이 아래 위를 의미한다.\n",
    "즉 행렬을 두 개의 삼각 행렬의 곱으로 분해하는 것이다.\n",
    "\n",
    "$$ A = LU $$\n",
    "\n",
    "$$ \\[\n",
    "\\begin{bmatrix}\n",
    "2 & 2 & 4 \\\\\n",
    "1 & 0 & 3 \\\\\n",
    "2 & 1 & 2\n",
    "\\end{bmatrix}\n",
    "=\n",
    "\\begin{bmatrix}\n",
    "1 & 0 & 0 \\\\\n",
    "\\frac{1}{2} & 1 & 0 \\\\\n",
    "1 & 1 & 1\n",
    "\\end{bmatrix}\n",
    "\\begin{bmatrix}\n",
    "2 & 2 & 4 \\\\\n",
    "0 & -1 & 1 \\\\\n",
    "0 & 0 & -3\n",
    "\\end{bmatrix}\n",
    "\\] $$"
   ],
   "metadata": {
    "collapsed": false
   }
  },
  {
   "cell_type": "code",
   "execution_count": 13,
   "outputs": [
    {
     "name": "stdout",
     "output_type": "stream",
     "text": [
      "L: \n",
      "[[1.  0.  0. ]\n",
      " [0.5 1.  0. ]\n",
      " [1.  1.  1. ]]\n",
      "U: \n",
      "[[ 2.  2.  4.]\n",
      " [ 0. -1.  1.]\n",
      " [ 0.  0. -3.]]\n"
     ]
    },
    {
     "data": {
      "text/plain": "(None, None)"
     },
     "execution_count": 13,
     "metadata": {},
     "output_type": "execute_result"
    }
   ],
   "source": [
    "import scipy.linalg # LU in scipy library\n",
    "A = np.array([[2,2,4],[1,0,3],[2,1,2]])\n",
    "\n",
    "_,L,U = scipy.linalg.lu(A)\n",
    "# 각각 출력한다.\n",
    "print('L: '),print(L)\n",
    "print('U: '),print(U)"
   ],
   "metadata": {
    "collapsed": false
   }
  },
  {
   "cell_type": "code",
   "execution_count": null,
   "outputs": [],
   "source": [],
   "metadata": {
    "collapsed": false
   }
  }
 ],
 "metadata": {
  "kernelspec": {
   "display_name": "Python 3",
   "language": "python",
   "name": "python3"
  },
  "language_info": {
   "codemirror_mode": {
    "name": "ipython",
    "version": 2
   },
   "file_extension": ".py",
   "mimetype": "text/x-python",
   "name": "python",
   "nbconvert_exporter": "python",
   "pygments_lexer": "ipython2",
   "version": "2.7.6"
  }
 },
 "nbformat": 4,
 "nbformat_minor": 0
}
