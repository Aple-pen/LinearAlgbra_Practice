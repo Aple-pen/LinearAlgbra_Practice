{
 "cells": [
  {
   "cell_type": "code",
   "execution_count": 18,
   "outputs": [],
   "source": [
    "# import libraries\n",
    "import numpy as np\n",
    "import matplotlib.pyplot as plt\n",
    "\n",
    "# setup animation\n",
    "import matplotlib.animation as animation\n",
    "from matplotlib import rc\n",
    "rc('animation', html='jshtml')\n",
    "\n",
    "\n",
    "# to read an image from a url (io) and convert it to grayscale (color)\n",
    "from skimage import io,color\n",
    "# convolution\n",
    "from scipy.signal import convolve2d\n",
    "\n",
    "\n",
    "import pandas as pd\n",
    "\n",
    "\n",
    "# NOTE: these lines define global figure properties used for publication.\n",
    "import matplotlib_inline.backend_inline\n",
    "matplotlib_inline.backend_inline.set_matplotlib_formats('svg') # display figures in vector format\n",
    "plt.rcParams.update({'font.size':14}) # set global font size"
   ],
   "metadata": {
    "collapsed": false
   }
  },
  {
   "cell_type": "markdown",
   "source": [
    "## 피어슨 상관계수 구하기\n",
    "$$ r = \\frac{a \\cdot b}{||a||||b||} $$\n",
    "##### 두개의 변수 벡터사이의 내적을 두벡터 노름의 곱으로 나누어 계산함."
   ],
   "metadata": {
    "collapsed": false
   }
  },
  {
   "cell_type": "code",
   "execution_count": 19,
   "metadata": {
    "collapsed": true
   },
   "outputs": [
    {
     "name": "stdout",
     "output_type": "stream",
     "text": [
      "벡터 a: [1 2 3]\n",
      "벡터 b: [4 5 6]\n",
      "a와 b의 내적: 32\n",
      "a의 노름: 3.7416573867739413\n",
      "b의 노름: 8.774964387392123\n",
      "피어슨 상관계수: 0.9746318461970762\n"
     ]
    }
   ],
   "source": [
    "import numpy as np\n",
    "\n",
    "# 예제 벡터 정의\n",
    "a = np.array([1, 2, 3])\n",
    "b = np.array([4, 5, 6])\n",
    "\n",
    "# 두 벡터의 내적\n",
    "dot_product = np.dot(a, b)\n",
    "\n",
    "# 벡터 a와 b의 노름 계산\n",
    "norm_a = np.linalg.norm(a)\n",
    "norm_b = np.linalg.norm(b)\n",
    "\n",
    "# 피어슨 상관계수 계산\n",
    "pearson_correlation = dot_product / (norm_a * norm_b)\n",
    "\n",
    "# 결과 출력\n",
    "print(\"벡터 a:\", a)\n",
    "print(\"벡터 b:\", b)\n",
    "print(\"a와 b의 내적:\", dot_product)\n",
    "print(\"a의 노름:\", norm_a)\n",
    "print(\"b의 노름:\", norm_b)\n",
    "print(\"피어슨 상관계수:\", pearson_correlation)"
   ]
  },
  {
   "cell_type": "markdown",
   "source": [
    "## Covariance matrix\n",
    "### 공분산 행렬"
   ],
   "metadata": {
    "collapsed": false
   }
  },
  {
   "cell_type": "code",
   "execution_count": 20,
   "outputs": [
    {
     "data": {
      "text/plain": "      state county community        communityname  fold  population  \\\n0         8      ?         ?         Lakewoodcity     1        0.19   \n1        53      ?         ?          Tukwilacity     1        0.00   \n2        24      ?         ?         Aberdeentown     1        0.00   \n3        34      5     81440  Willingborotownship     1        0.04   \n4        42     95      6096    Bethlehemtownship     1        0.01   \n...     ...    ...       ...                  ...   ...         ...   \n1989     12      ?         ?    TempleTerracecity    10        0.01   \n1990      6      ?         ?          Seasidecity    10        0.05   \n1991      9      9     80070        Waterburytown    10        0.16   \n1992     25     17     72600          Walthamcity    10        0.08   \n1993      6      ?         ?          Ontariocity    10        0.20   \n\n      householdsize  racepctblack  racePctWhite  racePctAsian  ...  LandArea  \\\n0              0.33          0.02          0.90          0.12  ...      0.12   \n1              0.16          0.12          0.74          0.45  ...      0.02   \n2              0.42          0.49          0.56          0.17  ...      0.01   \n3              0.77          1.00          0.08          0.12  ...      0.02   \n4              0.55          0.02          0.95          0.09  ...      0.04   \n...             ...           ...           ...           ...  ...       ...   \n1989           0.40          0.10          0.87          0.12  ...      0.01   \n1990           0.96          0.46          0.28          0.83  ...      0.02   \n1991           0.37          0.25          0.69          0.04  ...      0.08   \n1992           0.51          0.06          0.87          0.22  ...      0.03   \n1993           0.78          0.14          0.46          0.24  ...      0.11   \n\n      PopDens  PctUsePubTrans  PolicCars  PolicOperBudg  LemasPctPolicOnPatr  \\\n0        0.26            0.20       0.06           0.04                  0.9   \n1        0.12            0.45          ?              ?                    ?   \n2        0.21            0.02          ?              ?                    ?   \n3        0.39            0.28          ?              ?                    ?   \n4        0.09            0.02          ?              ?                    ?   \n...       ...             ...        ...            ...                  ...   \n1989     0.28            0.05          ?              ?                    ?   \n1990     0.37            0.20          ?              ?                    ?   \n1991     0.32            0.18       0.08           0.06                 0.78   \n1992     0.38            0.33       0.02           0.02                 0.79   \n1993     0.30            0.05       0.08           0.04                 0.73   \n\n      LemasGangUnitDeploy  LemasPctOfficDrugUn  PolicBudgPerPop  \\\n0                     0.5                 0.32             0.14   \n1                       ?                 0.00                ?   \n2                       ?                 0.00                ?   \n3                       ?                 0.00                ?   \n4                       ?                 0.00                ?   \n...                   ...                  ...              ...   \n1989                    ?                 0.00                ?   \n1990                    ?                 0.00                ?   \n1991                    0                 0.91             0.28   \n1992                    0                 0.22             0.18   \n1993                  0.5                 1.00             0.13   \n\n      ViolentCrimesPerPop  \n0                    0.20  \n1                    0.67  \n2                    0.43  \n3                    0.12  \n4                    0.03  \n...                   ...  \n1989                 0.09  \n1990                 0.45  \n1991                 0.23  \n1992                 0.19  \n1993                 0.48  \n\n[1994 rows x 128 columns]",
      "text/html": "<div>\n<style scoped>\n    .dataframe tbody tr th:only-of-type {\n        vertical-align: middle;\n    }\n\n    .dataframe tbody tr th {\n        vertical-align: top;\n    }\n\n    .dataframe thead th {\n        text-align: right;\n    }\n</style>\n<table border=\"1\" class=\"dataframe\">\n  <thead>\n    <tr style=\"text-align: right;\">\n      <th></th>\n      <th>state</th>\n      <th>county</th>\n      <th>community</th>\n      <th>communityname</th>\n      <th>fold</th>\n      <th>population</th>\n      <th>householdsize</th>\n      <th>racepctblack</th>\n      <th>racePctWhite</th>\n      <th>racePctAsian</th>\n      <th>...</th>\n      <th>LandArea</th>\n      <th>PopDens</th>\n      <th>PctUsePubTrans</th>\n      <th>PolicCars</th>\n      <th>PolicOperBudg</th>\n      <th>LemasPctPolicOnPatr</th>\n      <th>LemasGangUnitDeploy</th>\n      <th>LemasPctOfficDrugUn</th>\n      <th>PolicBudgPerPop</th>\n      <th>ViolentCrimesPerPop</th>\n    </tr>\n  </thead>\n  <tbody>\n    <tr>\n      <th>0</th>\n      <td>8</td>\n      <td>?</td>\n      <td>?</td>\n      <td>Lakewoodcity</td>\n      <td>1</td>\n      <td>0.19</td>\n      <td>0.33</td>\n      <td>0.02</td>\n      <td>0.90</td>\n      <td>0.12</td>\n      <td>...</td>\n      <td>0.12</td>\n      <td>0.26</td>\n      <td>0.20</td>\n      <td>0.06</td>\n      <td>0.04</td>\n      <td>0.9</td>\n      <td>0.5</td>\n      <td>0.32</td>\n      <td>0.14</td>\n      <td>0.20</td>\n    </tr>\n    <tr>\n      <th>1</th>\n      <td>53</td>\n      <td>?</td>\n      <td>?</td>\n      <td>Tukwilacity</td>\n      <td>1</td>\n      <td>0.00</td>\n      <td>0.16</td>\n      <td>0.12</td>\n      <td>0.74</td>\n      <td>0.45</td>\n      <td>...</td>\n      <td>0.02</td>\n      <td>0.12</td>\n      <td>0.45</td>\n      <td>?</td>\n      <td>?</td>\n      <td>?</td>\n      <td>?</td>\n      <td>0.00</td>\n      <td>?</td>\n      <td>0.67</td>\n    </tr>\n    <tr>\n      <th>2</th>\n      <td>24</td>\n      <td>?</td>\n      <td>?</td>\n      <td>Aberdeentown</td>\n      <td>1</td>\n      <td>0.00</td>\n      <td>0.42</td>\n      <td>0.49</td>\n      <td>0.56</td>\n      <td>0.17</td>\n      <td>...</td>\n      <td>0.01</td>\n      <td>0.21</td>\n      <td>0.02</td>\n      <td>?</td>\n      <td>?</td>\n      <td>?</td>\n      <td>?</td>\n      <td>0.00</td>\n      <td>?</td>\n      <td>0.43</td>\n    </tr>\n    <tr>\n      <th>3</th>\n      <td>34</td>\n      <td>5</td>\n      <td>81440</td>\n      <td>Willingborotownship</td>\n      <td>1</td>\n      <td>0.04</td>\n      <td>0.77</td>\n      <td>1.00</td>\n      <td>0.08</td>\n      <td>0.12</td>\n      <td>...</td>\n      <td>0.02</td>\n      <td>0.39</td>\n      <td>0.28</td>\n      <td>?</td>\n      <td>?</td>\n      <td>?</td>\n      <td>?</td>\n      <td>0.00</td>\n      <td>?</td>\n      <td>0.12</td>\n    </tr>\n    <tr>\n      <th>4</th>\n      <td>42</td>\n      <td>95</td>\n      <td>6096</td>\n      <td>Bethlehemtownship</td>\n      <td>1</td>\n      <td>0.01</td>\n      <td>0.55</td>\n      <td>0.02</td>\n      <td>0.95</td>\n      <td>0.09</td>\n      <td>...</td>\n      <td>0.04</td>\n      <td>0.09</td>\n      <td>0.02</td>\n      <td>?</td>\n      <td>?</td>\n      <td>?</td>\n      <td>?</td>\n      <td>0.00</td>\n      <td>?</td>\n      <td>0.03</td>\n    </tr>\n    <tr>\n      <th>...</th>\n      <td>...</td>\n      <td>...</td>\n      <td>...</td>\n      <td>...</td>\n      <td>...</td>\n      <td>...</td>\n      <td>...</td>\n      <td>...</td>\n      <td>...</td>\n      <td>...</td>\n      <td>...</td>\n      <td>...</td>\n      <td>...</td>\n      <td>...</td>\n      <td>...</td>\n      <td>...</td>\n      <td>...</td>\n      <td>...</td>\n      <td>...</td>\n      <td>...</td>\n      <td>...</td>\n    </tr>\n    <tr>\n      <th>1989</th>\n      <td>12</td>\n      <td>?</td>\n      <td>?</td>\n      <td>TempleTerracecity</td>\n      <td>10</td>\n      <td>0.01</td>\n      <td>0.40</td>\n      <td>0.10</td>\n      <td>0.87</td>\n      <td>0.12</td>\n      <td>...</td>\n      <td>0.01</td>\n      <td>0.28</td>\n      <td>0.05</td>\n      <td>?</td>\n      <td>?</td>\n      <td>?</td>\n      <td>?</td>\n      <td>0.00</td>\n      <td>?</td>\n      <td>0.09</td>\n    </tr>\n    <tr>\n      <th>1990</th>\n      <td>6</td>\n      <td>?</td>\n      <td>?</td>\n      <td>Seasidecity</td>\n      <td>10</td>\n      <td>0.05</td>\n      <td>0.96</td>\n      <td>0.46</td>\n      <td>0.28</td>\n      <td>0.83</td>\n      <td>...</td>\n      <td>0.02</td>\n      <td>0.37</td>\n      <td>0.20</td>\n      <td>?</td>\n      <td>?</td>\n      <td>?</td>\n      <td>?</td>\n      <td>0.00</td>\n      <td>?</td>\n      <td>0.45</td>\n    </tr>\n    <tr>\n      <th>1991</th>\n      <td>9</td>\n      <td>9</td>\n      <td>80070</td>\n      <td>Waterburytown</td>\n      <td>10</td>\n      <td>0.16</td>\n      <td>0.37</td>\n      <td>0.25</td>\n      <td>0.69</td>\n      <td>0.04</td>\n      <td>...</td>\n      <td>0.08</td>\n      <td>0.32</td>\n      <td>0.18</td>\n      <td>0.08</td>\n      <td>0.06</td>\n      <td>0.78</td>\n      <td>0</td>\n      <td>0.91</td>\n      <td>0.28</td>\n      <td>0.23</td>\n    </tr>\n    <tr>\n      <th>1992</th>\n      <td>25</td>\n      <td>17</td>\n      <td>72600</td>\n      <td>Walthamcity</td>\n      <td>10</td>\n      <td>0.08</td>\n      <td>0.51</td>\n      <td>0.06</td>\n      <td>0.87</td>\n      <td>0.22</td>\n      <td>...</td>\n      <td>0.03</td>\n      <td>0.38</td>\n      <td>0.33</td>\n      <td>0.02</td>\n      <td>0.02</td>\n      <td>0.79</td>\n      <td>0</td>\n      <td>0.22</td>\n      <td>0.18</td>\n      <td>0.19</td>\n    </tr>\n    <tr>\n      <th>1993</th>\n      <td>6</td>\n      <td>?</td>\n      <td>?</td>\n      <td>Ontariocity</td>\n      <td>10</td>\n      <td>0.20</td>\n      <td>0.78</td>\n      <td>0.14</td>\n      <td>0.46</td>\n      <td>0.24</td>\n      <td>...</td>\n      <td>0.11</td>\n      <td>0.30</td>\n      <td>0.05</td>\n      <td>0.08</td>\n      <td>0.04</td>\n      <td>0.73</td>\n      <td>0.5</td>\n      <td>1.00</td>\n      <td>0.13</td>\n      <td>0.48</td>\n    </tr>\n  </tbody>\n</table>\n<p>1994 rows × 128 columns</p>\n</div>"
     },
     "execution_count": 20,
     "metadata": {},
     "output_type": "execute_result"
    }
   ],
   "source": [
    "\n",
    "# import libraries\n",
    "import numpy as np\n",
    "import matplotlib.pyplot as plt\n",
    "\n",
    "# setup animation\n",
    "import matplotlib.animation as animation\n",
    "from matplotlib import rc\n",
    "rc('animation', html='jshtml')\n",
    "\n",
    "\n",
    "# to read an image from a url (io) and convert it to grayscale (color)\n",
    "from skimage import io,color\n",
    "# convolution\n",
    "from scipy.signal import convolve2d\n",
    "\n",
    "import pandas as pd\n",
    "\n",
    "# NOTE: these lines define global figure properties used for publication.\n",
    "import matplotlib_inline.backend_inline\n",
    "matplotlib_inline.backend_inline.set_matplotlib_formats('svg') # display figures in vector format\n",
    "plt.rcParams.update({'font.size':14}) # set global font size\n",
    "\n",
    "\n",
    "# read the data into a pandas dataframe\n",
    "url  = 'https://archive.ics.uci.edu/ml/machine-learning-databases/communities/communities.data'\n",
    "data = pd.read_csv(url,sep=',',header=None)\n",
    "\n",
    "# attach column labels (don't worry, I didn't type this all in by hand, lol)\n",
    "data.columns = [ 'state', 'county', 'community', 'communityname', 'fold', 'population', 'householdsize', 'racepctblack', 'racePctWhite',\n",
    "'racePctAsian', 'racePctHisp', 'agePct12t21', 'agePct12t29', 'agePct16t24', 'agePct65up', 'numbUrban', 'pctUrban', 'medIncome', 'pctWWage',\n",
    "'pctWFarmSelf', 'pctWInvInc', 'pctWSocSec', 'pctWPubAsst', 'pctWRetire', 'medFamInc', 'perCapInc', 'whitePerCap', 'blackPerCap', 'indianPerCap',\n",
    "'AsianPerCap', 'OtherPerCap', 'HispPerCap', 'NumUnderPov', 'PctPopUnderPov', 'PctLess9thGrade', 'PctNotHSGrad', 'PctBSorMore', 'PctUnemployed', 'PctEmploy',\n",
    "'PctEmplManu', 'PctEmplProfServ', 'PctOccupManu', 'PctOccupMgmtProf', 'MalePctDivorce', 'MalePctNevMarr', 'FemalePctDiv', 'TotalPctDiv', 'PersPerFam', 'PctFam2Par',\n",
    "'PctKids2Par', 'PctYoungKids2Par', 'PctTeen2Par', 'PctWorkMomYoungKids', 'PctWorkMom', 'NumIlleg', 'PctIlleg', 'NumImmig', 'PctImmigRecent', 'PctImmigRec5',\n",
    "'PctImmigRec8', 'PctImmigRec10', 'PctRecentImmig', 'PctRecImmig5', 'PctRecImmig8', 'PctRecImmig10', 'PctSpeakEnglOnly', 'PctNotSpeakEnglWell', 'PctLargHouseFam', 'PctLargHouseOccup',\n",
    "'PersPerOccupHous', 'PersPerOwnOccHous', 'PersPerRentOccHous', 'PctPersOwnOccup', 'PctPersDenseHous', 'PctHousLess3BR', 'MedNumBR', 'HousVacant', 'PctHousOccup', 'PctHousOwnOcc',\n",
    "'PctVacantBoarded', 'PctVacMore6Mos', 'MedYrHousBuilt', 'PctHousNoPhone', 'PctWOFullPlumb', 'OwnOccLowQuart', 'OwnOccMedVal', 'OwnOccHiQuart', 'RentLowQ', 'RentMedian',\n",
    "'RentHighQ', 'MedRent', 'MedRentPctHousInc', 'MedOwnCostPctInc', 'MedOwnCostPctIncNoMtg', 'NumInShelters', 'NumStreet', 'PctForeignBorn', 'PctBornSameState', 'PctSameHouse85',\n",
    "'PctSameCity85', 'PctSameState85', 'LemasSwornFT', 'LemasSwFTPerPop', 'LemasSwFTFieldOps', 'LemasSwFTFieldPerPop', 'LemasTotalReq', 'LemasTotReqPerPop', 'PolicReqPerOffic', 'PolicPerPop',\n",
    "'RacialMatchCommPol', 'PctPolicWhite', 'PctPolicBlack', 'PctPolicHisp', 'PctPolicAsian', 'PctPolicMinor', 'OfficAssgnDrugUnits', 'NumKindsDrugsSeiz', 'PolicAveOTWorked', 'LandArea',\n",
    "'PopDens', 'PctUsePubTrans', 'PolicCars', 'PolicOperBudg', 'LemasPctPolicOnPatr', 'LemasGangUnitDeploy', 'LemasPctOfficDrugUn', 'PolicBudgPerPop', 'ViolentCrimesPerPop',\n",
    " ]\n",
    "\n",
    "# have a look at the data\n",
    "data\n",
    "\n",
    "\n",
    "# extract only the numeric data\n",
    "# numberDataset = data._get_numeric_data()\n",
    "#\n",
    "# # # drop a few additional columns, and convert to a numpy array\n",
    "# dataMat = numberDataset.drop(['state','fold'],axis=1).values\n",
    "#\n",
    "# datamean = np.mean(dataMat,axis = 0) # 특징 평균 벡터\n",
    "# dataMatM = dataMat - datamean # 브로드캐스트를 이용한 평균 중앙화\n",
    "# covMat = dataMatM.T @ dataMatM / (dataMatM.shape[0]-1)\n",
    "# covMat\n"
   ],
   "metadata": {
    "collapsed": false
   }
  },
  {
   "cell_type": "code",
   "execution_count": 21,
   "outputs": [
    {
     "data": {
      "text/plain": "array([[0.61655556, 0.61544444],\n       [0.61544444, 0.71655556]])"
     },
     "execution_count": 21,
     "metadata": {},
     "output_type": "execute_result"
    }
   ],
   "source": [
    "import numpy as np\n",
    "\n",
    "# 데이터: 각 열이 변수, 각 행이 관측치\n",
    "data = np.array([\n",
    "    [2.5, 2.4],\n",
    "    [0.5, 0.7],\n",
    "    [2.2, 2.9],\n",
    "    [1.9, 2.2],\n",
    "    [3.1, 3.0],\n",
    "    [2.3, 2.7],\n",
    "    [2.0, 1.6],\n",
    "    [1.0, 1.1],\n",
    "    [1.5, 1.6],\n",
    "    [1.1, 0.9]\n",
    "])\n",
    "\n",
    "datamean = np.mean(data,axis = 0)\n",
    "dataM = data - datamean\n",
    "covData = dataM.T @ dataM /(dataM.shape[0] -1)\n",
    "covData\n",
    "\n"
   ],
   "metadata": {
    "collapsed": false
   }
  },
  {
   "cell_type": "markdown",
   "source": [
    "## 공분산과 상관계수 구하기"
   ],
   "metadata": {
    "collapsed": false
   }
  },
  {
   "cell_type": "code",
   "execution_count": 22,
   "outputs": [
    {
     "name": "stdout",
     "output_type": "stream",
     "text": [
      "[[  8.2  45. ]\n",
      " [ 45.  250. ]]\n"
     ]
    }
   ],
   "source": [
    "import numpy as np\n",
    "\n",
    "# 공부 시간 : [2,3,5,9]\n",
    "# 시험 점수 : [50,60,70,80,90]\n",
    "A = np.array([[2,50],[3,60],[5,70],[7,80],[9,90]])\n",
    "\n",
    "# 특징 평균 벡터 계산\n",
    "meanA = np.mean(A,axis=0) # axis=0은 열방향 axis=1은 행방향으로 평균을 냄.\n",
    "meanCenteringA = A - meanA # 평균 중심화 계산\n",
    "\n",
    "convariance = meanCenteringA.T @ meanCenteringA / (A.shape[0] - 1) # 공분산 행렬 계산\n",
    "print(convariance)\n",
    "correlation = convariance[0,1] / (np.sqrt(convariance[0,0]) * np.sqrt(convariance[1,1]))"
   ],
   "metadata": {
    "collapsed": false
   }
  },
  {
   "cell_type": "markdown",
   "source": [
    "## 벡터곱셈을 통한 기하학적 변환\n"
   ],
   "metadata": {
    "collapsed": false
   }
  },
  {
   "cell_type": "markdown",
   "source": [
    "### Transformation matrices"
   ],
   "metadata": {
    "collapsed": false
   }
  },
  {
   "cell_type": "code",
   "execution_count": 31,
   "outputs": [
    {
     "name": "stdout",
     "output_type": "stream",
     "text": [
      "[[ 0.          0.          0.          0.          0.          0.\n",
      "   0.          0.          0.          0.          0.          0.\n",
      "   0.          0.          0.          0.          0.          0.\n",
      "   0.          0.        ]\n",
      " [-1.         -0.89473684 -0.78947368 -0.68421053 -0.57894737 -0.47368421\n",
      "  -0.36842105 -0.26315789 -0.15789474 -0.05263158  0.05263158  0.15789474\n",
      "   0.26315789  0.36842105  0.47368421  0.57894737  0.68421053  0.78947368\n",
      "   0.89473684  1.        ]]\n"
     ]
    },
    {
     "data": {
      "text/plain": "<Figure size 432x432 with 1 Axes>",
      "image/svg+xml": "<?xml version=\"1.0\" encoding=\"utf-8\" standalone=\"no\"?>\n<!DOCTYPE svg PUBLIC \"-//W3C//DTD SVG 1.1//EN\"\n  \"http://www.w3.org/Graphics/SVG/1.1/DTD/svg11.dtd\">\n<svg xmlns:xlink=\"http://www.w3.org/1999/xlink\" width=\"381.555937pt\" height=\"379.87475pt\" viewBox=\"0 0 381.555937 379.87475\" xmlns=\"http://www.w3.org/2000/svg\" version=\"1.1\">\n <metadata>\n  <rdf:RDF xmlns:dc=\"http://purl.org/dc/elements/1.1/\" xmlns:cc=\"http://creativecommons.org/ns#\" xmlns:rdf=\"http://www.w3.org/1999/02/22-rdf-syntax-ns#\">\n   <cc:Work>\n    <dc:type rdf:resource=\"http://purl.org/dc/dcmitype/StillImage\"/>\n    <dc:date>2024-11-17T12:17:16.611535</dc:date>\n    <dc:format>image/svg+xml</dc:format>\n    <dc:creator>\n     <cc:Agent>\n      <dc:title>Matplotlib v3.5.1, https://matplotlib.org/</dc:title>\n     </cc:Agent>\n    </dc:creator>\n   </cc:Work>\n  </rdf:RDF>\n </metadata>\n <defs>\n  <style type=\"text/css\">*{stroke-linejoin: round; stroke-linecap: butt}</style>\n </defs>\n <g id=\"figure_1\">\n  <g id=\"patch_1\">\n   <path d=\"M 0 379.87475 \nL 381.555937 379.87475 \nL 381.555937 0 \nL 0 0 \nL 0 379.87475 \nz\n\" style=\"fill: none\"/>\n  </g>\n  <g id=\"axes_1\">\n   <g id=\"patch_2\">\n    <path d=\"M 48.195938 352.125375 \nL 374.355938 352.125375 \nL 374.355938 25.965375 \nL 48.195938 25.965375 \nz\n\" style=\"fill: #ffffff\"/>\n   </g>\n   <g id=\"matplotlib.axis_1\">\n    <g id=\"xtick_1\">\n     <g id=\"line2d_1\">\n      <defs>\n       <path id=\"m89e45b888e\" d=\"M 0 0 \nL 0 3.5 \n\" style=\"stroke: #000000; stroke-width: 0.8\"/>\n      </defs>\n      <g>\n       <use xlink:href=\"#m89e45b888e\" x=\"75.375938\" y=\"352.125375\" style=\"stroke: #000000; stroke-width: 0.8\"/>\n      </g>\n     </g>\n     <g id=\"text_1\">\n      <!-- −1.0 -->\n      <g transform=\"translate(58.377969 369.763188)scale(0.14 -0.14)\">\n       <defs>\n        <path id=\"DejaVuSans-2212\" d=\"M 678 2272 \nL 4684 2272 \nL 4684 1741 \nL 678 1741 \nL 678 2272 \nz\n\" transform=\"scale(0.015625)\"/>\n        <path id=\"DejaVuSans-31\" d=\"M 794 531 \nL 1825 531 \nL 1825 4091 \nL 703 3866 \nL 703 4441 \nL 1819 4666 \nL 2450 4666 \nL 2450 531 \nL 3481 531 \nL 3481 0 \nL 794 0 \nL 794 531 \nz\n\" transform=\"scale(0.015625)\"/>\n        <path id=\"DejaVuSans-2e\" d=\"M 684 794 \nL 1344 794 \nL 1344 0 \nL 684 0 \nL 684 794 \nz\n\" transform=\"scale(0.015625)\"/>\n        <path id=\"DejaVuSans-30\" d=\"M 2034 4250 \nQ 1547 4250 1301 3770 \nQ 1056 3291 1056 2328 \nQ 1056 1369 1301 889 \nQ 1547 409 2034 409 \nQ 2525 409 2770 889 \nQ 3016 1369 3016 2328 \nQ 3016 3291 2770 3770 \nQ 2525 4250 2034 4250 \nz\nM 2034 4750 \nQ 2819 4750 3233 4129 \nQ 3647 3509 3647 2328 \nQ 3647 1150 3233 529 \nQ 2819 -91 2034 -91 \nQ 1250 -91 836 529 \nQ 422 1150 422 2328 \nQ 422 3509 836 4129 \nQ 1250 4750 2034 4750 \nz\n\" transform=\"scale(0.015625)\"/>\n       </defs>\n       <use xlink:href=\"#DejaVuSans-2212\"/>\n       <use xlink:href=\"#DejaVuSans-31\" x=\"83.789062\"/>\n       <use xlink:href=\"#DejaVuSans-2e\" x=\"147.412109\"/>\n       <use xlink:href=\"#DejaVuSans-30\" x=\"179.199219\"/>\n      </g>\n     </g>\n    </g>\n    <g id=\"xtick_2\">\n     <g id=\"line2d_2\">\n      <g>\n       <use xlink:href=\"#m89e45b888e\" x=\"143.325938\" y=\"352.125375\" style=\"stroke: #000000; stroke-width: 0.8\"/>\n      </g>\n     </g>\n     <g id=\"text_2\">\n      <!-- −0.5 -->\n      <g transform=\"translate(126.327969 369.763188)scale(0.14 -0.14)\">\n       <defs>\n        <path id=\"DejaVuSans-35\" d=\"M 691 4666 \nL 3169 4666 \nL 3169 4134 \nL 1269 4134 \nL 1269 2991 \nQ 1406 3038 1543 3061 \nQ 1681 3084 1819 3084 \nQ 2600 3084 3056 2656 \nQ 3513 2228 3513 1497 \nQ 3513 744 3044 326 \nQ 2575 -91 1722 -91 \nQ 1428 -91 1123 -41 \nQ 819 9 494 109 \nL 494 744 \nQ 775 591 1075 516 \nQ 1375 441 1709 441 \nQ 2250 441 2565 725 \nQ 2881 1009 2881 1497 \nQ 2881 1984 2565 2268 \nQ 2250 2553 1709 2553 \nQ 1456 2553 1204 2497 \nQ 953 2441 691 2322 \nL 691 4666 \nz\n\" transform=\"scale(0.015625)\"/>\n       </defs>\n       <use xlink:href=\"#DejaVuSans-2212\"/>\n       <use xlink:href=\"#DejaVuSans-30\" x=\"83.789062\"/>\n       <use xlink:href=\"#DejaVuSans-2e\" x=\"147.412109\"/>\n       <use xlink:href=\"#DejaVuSans-35\" x=\"179.199219\"/>\n      </g>\n     </g>\n    </g>\n    <g id=\"xtick_3\">\n     <g id=\"line2d_3\">\n      <g>\n       <use xlink:href=\"#m89e45b888e\" x=\"211.275938\" y=\"352.125375\" style=\"stroke: #000000; stroke-width: 0.8\"/>\n      </g>\n     </g>\n     <g id=\"text_3\">\n      <!-- 0.0 -->\n      <g transform=\"translate(200.14375 369.763188)scale(0.14 -0.14)\">\n       <use xlink:href=\"#DejaVuSans-30\"/>\n       <use xlink:href=\"#DejaVuSans-2e\" x=\"63.623047\"/>\n       <use xlink:href=\"#DejaVuSans-30\" x=\"95.410156\"/>\n      </g>\n     </g>\n    </g>\n    <g id=\"xtick_4\">\n     <g id=\"line2d_4\">\n      <g>\n       <use xlink:href=\"#m89e45b888e\" x=\"279.225938\" y=\"352.125375\" style=\"stroke: #000000; stroke-width: 0.8\"/>\n      </g>\n     </g>\n     <g id=\"text_4\">\n      <!-- 0.5 -->\n      <g transform=\"translate(268.09375 369.763188)scale(0.14 -0.14)\">\n       <use xlink:href=\"#DejaVuSans-30\"/>\n       <use xlink:href=\"#DejaVuSans-2e\" x=\"63.623047\"/>\n       <use xlink:href=\"#DejaVuSans-35\" x=\"95.410156\"/>\n      </g>\n     </g>\n    </g>\n    <g id=\"xtick_5\">\n     <g id=\"line2d_5\">\n      <g>\n       <use xlink:href=\"#m89e45b888e\" x=\"347.175938\" y=\"352.125375\" style=\"stroke: #000000; stroke-width: 0.8\"/>\n      </g>\n     </g>\n     <g id=\"text_5\">\n      <!-- 1.0 -->\n      <g transform=\"translate(336.04375 369.763188)scale(0.14 -0.14)\">\n       <use xlink:href=\"#DejaVuSans-31\"/>\n       <use xlink:href=\"#DejaVuSans-2e\" x=\"63.623047\"/>\n       <use xlink:href=\"#DejaVuSans-30\" x=\"95.410156\"/>\n      </g>\n     </g>\n    </g>\n   </g>\n   <g id=\"matplotlib.axis_2\">\n    <g id=\"ytick_1\">\n     <g id=\"line2d_6\">\n      <defs>\n       <path id=\"m617d3a4f3b\" d=\"M 0 0 \nL -3.5 0 \n\" style=\"stroke: #000000; stroke-width: 0.8\"/>\n      </defs>\n      <g>\n       <use xlink:href=\"#m617d3a4f3b\" x=\"48.195938\" y=\"324.945375\" style=\"stroke: #000000; stroke-width: 0.8\"/>\n      </g>\n     </g>\n     <g id=\"text_6\">\n      <!-- −1.0 -->\n      <g transform=\"translate(7.2 330.264281)scale(0.14 -0.14)\">\n       <use xlink:href=\"#DejaVuSans-2212\"/>\n       <use xlink:href=\"#DejaVuSans-31\" x=\"83.789062\"/>\n       <use xlink:href=\"#DejaVuSans-2e\" x=\"147.412109\"/>\n       <use xlink:href=\"#DejaVuSans-30\" x=\"179.199219\"/>\n      </g>\n     </g>\n    </g>\n    <g id=\"ytick_2\">\n     <g id=\"line2d_7\">\n      <g>\n       <use xlink:href=\"#m617d3a4f3b\" x=\"48.195938\" y=\"256.995375\" style=\"stroke: #000000; stroke-width: 0.8\"/>\n      </g>\n     </g>\n     <g id=\"text_7\">\n      <!-- −0.5 -->\n      <g transform=\"translate(7.2 262.314281)scale(0.14 -0.14)\">\n       <use xlink:href=\"#DejaVuSans-2212\"/>\n       <use xlink:href=\"#DejaVuSans-30\" x=\"83.789062\"/>\n       <use xlink:href=\"#DejaVuSans-2e\" x=\"147.412109\"/>\n       <use xlink:href=\"#DejaVuSans-35\" x=\"179.199219\"/>\n      </g>\n     </g>\n    </g>\n    <g id=\"ytick_3\">\n     <g id=\"line2d_8\">\n      <g>\n       <use xlink:href=\"#m617d3a4f3b\" x=\"48.195938\" y=\"189.045375\" style=\"stroke: #000000; stroke-width: 0.8\"/>\n      </g>\n     </g>\n     <g id=\"text_8\">\n      <!-- 0.0 -->\n      <g transform=\"translate(18.931563 194.364281)scale(0.14 -0.14)\">\n       <use xlink:href=\"#DejaVuSans-30\"/>\n       <use xlink:href=\"#DejaVuSans-2e\" x=\"63.623047\"/>\n       <use xlink:href=\"#DejaVuSans-30\" x=\"95.410156\"/>\n      </g>\n     </g>\n    </g>\n    <g id=\"ytick_4\">\n     <g id=\"line2d_9\">\n      <g>\n       <use xlink:href=\"#m617d3a4f3b\" x=\"48.195938\" y=\"121.095375\" style=\"stroke: #000000; stroke-width: 0.8\"/>\n      </g>\n     </g>\n     <g id=\"text_9\">\n      <!-- 0.5 -->\n      <g transform=\"translate(18.931563 126.414281)scale(0.14 -0.14)\">\n       <use xlink:href=\"#DejaVuSans-30\"/>\n       <use xlink:href=\"#DejaVuSans-2e\" x=\"63.623047\"/>\n       <use xlink:href=\"#DejaVuSans-35\" x=\"95.410156\"/>\n      </g>\n     </g>\n    </g>\n    <g id=\"ytick_5\">\n     <g id=\"line2d_10\">\n      <g>\n       <use xlink:href=\"#m617d3a4f3b\" x=\"48.195938\" y=\"53.145375\" style=\"stroke: #000000; stroke-width: 0.8\"/>\n      </g>\n     </g>\n     <g id=\"text_10\">\n      <!-- 1.0 -->\n      <g transform=\"translate(18.931563 58.464281)scale(0.14 -0.14)\">\n       <use xlink:href=\"#DejaVuSans-31\"/>\n       <use xlink:href=\"#DejaVuSans-2e\" x=\"63.623047\"/>\n       <use xlink:href=\"#DejaVuSans-30\" x=\"95.410156\"/>\n      </g>\n     </g>\n    </g>\n   </g>\n   <g id=\"line2d_11\">\n    <defs>\n     <path id=\"m62d8353891\" d=\"M 0 3 \nC 0.795609 3 1.55874 2.683901 2.12132 2.12132 \nC 2.683901 1.55874 3 0.795609 3 0 \nC 3 -0.795609 2.683901 -1.55874 2.12132 -2.12132 \nC 1.55874 -2.683901 0.795609 -3 0 -3 \nC -0.795609 -3 -1.55874 -2.683901 -2.12132 -2.12132 \nC -2.683901 -1.55874 -3 -0.795609 -3 0 \nC -3 0.795609 -2.683901 1.55874 -2.12132 2.12132 \nC -1.55874 2.683901 -0.795609 3 0 3 \nz\n\" style=\"stroke: #000000\"/>\n    </defs>\n    <g clip-path=\"url(#p773c7c3ffc)\">\n     <use xlink:href=\"#m62d8353891\" x=\"211.275938\" y=\"324.945375\" style=\"stroke: #000000\"/>\n     <use xlink:href=\"#m62d8353891\" x=\"211.275938\" y=\"310.640112\" style=\"stroke: #000000\"/>\n     <use xlink:href=\"#m62d8353891\" x=\"211.275938\" y=\"296.334849\" style=\"stroke: #000000\"/>\n     <use xlink:href=\"#m62d8353891\" x=\"211.275938\" y=\"282.029586\" style=\"stroke: #000000\"/>\n     <use xlink:href=\"#m62d8353891\" x=\"211.275938\" y=\"267.724322\" style=\"stroke: #000000\"/>\n     <use xlink:href=\"#m62d8353891\" x=\"211.275938\" y=\"253.419059\" style=\"stroke: #000000\"/>\n     <use xlink:href=\"#m62d8353891\" x=\"211.275938\" y=\"239.113796\" style=\"stroke: #000000\"/>\n     <use xlink:href=\"#m62d8353891\" x=\"211.275938\" y=\"224.808533\" style=\"stroke: #000000\"/>\n     <use xlink:href=\"#m62d8353891\" x=\"211.275938\" y=\"210.50327\" style=\"stroke: #000000\"/>\n     <use xlink:href=\"#m62d8353891\" x=\"211.275938\" y=\"196.198007\" style=\"stroke: #000000\"/>\n     <use xlink:href=\"#m62d8353891\" x=\"211.275938\" y=\"181.892743\" style=\"stroke: #000000\"/>\n     <use xlink:href=\"#m62d8353891\" x=\"211.275938\" y=\"167.58748\" style=\"stroke: #000000\"/>\n     <use xlink:href=\"#m62d8353891\" x=\"211.275938\" y=\"153.282217\" style=\"stroke: #000000\"/>\n     <use xlink:href=\"#m62d8353891\" x=\"211.275938\" y=\"138.976954\" style=\"stroke: #000000\"/>\n     <use xlink:href=\"#m62d8353891\" x=\"211.275938\" y=\"124.671691\" style=\"stroke: #000000\"/>\n     <use xlink:href=\"#m62d8353891\" x=\"211.275938\" y=\"110.366428\" style=\"stroke: #000000\"/>\n     <use xlink:href=\"#m62d8353891\" x=\"211.275938\" y=\"96.061164\" style=\"stroke: #000000\"/>\n     <use xlink:href=\"#m62d8353891\" x=\"211.275938\" y=\"81.755901\" style=\"stroke: #000000\"/>\n     <use xlink:href=\"#m62d8353891\" x=\"211.275938\" y=\"67.450638\" style=\"stroke: #000000\"/>\n     <use xlink:href=\"#m62d8353891\" x=\"211.275938\" y=\"53.145375\" style=\"stroke: #000000\"/>\n    </g>\n   </g>\n   <g id=\"line2d_12\">\n    <defs>\n     <path id=\"ma6f60cc015\" d=\"M -3 3 \nL 3 3 \nL 3 -3 \nL -3 -3 \nz\n\" style=\"stroke: #b2b2b2; stroke-linejoin: miter\"/>\n    </defs>\n    <g clip-path=\"url(#p773c7c3ffc)\">\n     <use xlink:href=\"#ma6f60cc015\" x=\"131.395922\" y=\"298.990785\" style=\"fill: #b2b2b2; stroke: #b2b2b2; stroke-linejoin: miter\"/>\n     <use xlink:href=\"#ma6f60cc015\" x=\"139.804344\" y=\"287.417584\" style=\"fill: #b2b2b2; stroke: #b2b2b2; stroke-linejoin: miter\"/>\n     <use xlink:href=\"#ma6f60cc015\" x=\"148.212767\" y=\"275.844383\" style=\"fill: #b2b2b2; stroke: #b2b2b2; stroke-linejoin: miter\"/>\n     <use xlink:href=\"#ma6f60cc015\" x=\"156.62119\" y=\"264.271182\" style=\"fill: #b2b2b2; stroke: #b2b2b2; stroke-linejoin: miter\"/>\n     <use xlink:href=\"#ma6f60cc015\" x=\"165.029613\" y=\"252.697981\" style=\"fill: #b2b2b2; stroke: #b2b2b2; stroke-linejoin: miter\"/>\n     <use xlink:href=\"#ma6f60cc015\" x=\"173.438035\" y=\"241.12478\" style=\"fill: #b2b2b2; stroke: #b2b2b2; stroke-linejoin: miter\"/>\n     <use xlink:href=\"#ma6f60cc015\" x=\"181.846458\" y=\"229.551579\" style=\"fill: #b2b2b2; stroke: #b2b2b2; stroke-linejoin: miter\"/>\n     <use xlink:href=\"#ma6f60cc015\" x=\"190.254881\" y=\"217.978378\" style=\"fill: #b2b2b2; stroke: #b2b2b2; stroke-linejoin: miter\"/>\n     <use xlink:href=\"#ma6f60cc015\" x=\"198.663303\" y=\"206.405177\" style=\"fill: #b2b2b2; stroke: #b2b2b2; stroke-linejoin: miter\"/>\n     <use xlink:href=\"#ma6f60cc015\" x=\"207.071726\" y=\"194.831976\" style=\"fill: #b2b2b2; stroke: #b2b2b2; stroke-linejoin: miter\"/>\n     <use xlink:href=\"#ma6f60cc015\" x=\"215.480149\" y=\"183.258774\" style=\"fill: #b2b2b2; stroke: #b2b2b2; stroke-linejoin: miter\"/>\n     <use xlink:href=\"#ma6f60cc015\" x=\"223.888572\" y=\"171.685573\" style=\"fill: #b2b2b2; stroke: #b2b2b2; stroke-linejoin: miter\"/>\n     <use xlink:href=\"#ma6f60cc015\" x=\"232.296994\" y=\"160.112372\" style=\"fill: #b2b2b2; stroke: #b2b2b2; stroke-linejoin: miter\"/>\n     <use xlink:href=\"#ma6f60cc015\" x=\"240.705417\" y=\"148.539171\" style=\"fill: #b2b2b2; stroke: #b2b2b2; stroke-linejoin: miter\"/>\n     <use xlink:href=\"#ma6f60cc015\" x=\"249.11384\" y=\"136.96597\" style=\"fill: #b2b2b2; stroke: #b2b2b2; stroke-linejoin: miter\"/>\n     <use xlink:href=\"#ma6f60cc015\" x=\"257.522262\" y=\"125.392769\" style=\"fill: #b2b2b2; stroke: #b2b2b2; stroke-linejoin: miter\"/>\n     <use xlink:href=\"#ma6f60cc015\" x=\"265.930685\" y=\"113.819568\" style=\"fill: #b2b2b2; stroke: #b2b2b2; stroke-linejoin: miter\"/>\n     <use xlink:href=\"#ma6f60cc015\" x=\"274.339108\" y=\"102.246367\" style=\"fill: #b2b2b2; stroke: #b2b2b2; stroke-linejoin: miter\"/>\n     <use xlink:href=\"#ma6f60cc015\" x=\"282.747531\" y=\"90.673166\" style=\"fill: #b2b2b2; stroke: #b2b2b2; stroke-linejoin: miter\"/>\n     <use xlink:href=\"#ma6f60cc015\" x=\"291.155953\" y=\"79.099965\" style=\"fill: #b2b2b2; stroke: #b2b2b2; stroke-linejoin: miter\"/>\n    </g>\n   </g>\n   <g id=\"patch_3\">\n    <path d=\"M 48.195938 352.125375 \nL 48.195938 25.965375 \n\" style=\"fill: none; stroke: #000000; stroke-width: 0.8; stroke-linejoin: miter; stroke-linecap: square\"/>\n   </g>\n   <g id=\"patch_4\">\n    <path d=\"M 374.355938 352.125375 \nL 374.355938 25.965375 \n\" style=\"fill: none; stroke: #000000; stroke-width: 0.8; stroke-linejoin: miter; stroke-linecap: square\"/>\n   </g>\n   <g id=\"patch_5\">\n    <path d=\"M 48.195938 352.125375 \nL 374.355938 352.125375 \n\" style=\"fill: none; stroke: #000000; stroke-width: 0.8; stroke-linejoin: miter; stroke-linecap: square\"/>\n   </g>\n   <g id=\"patch_6\">\n    <path d=\"M 48.195938 25.965375 \nL 374.355938 25.965375 \n\" style=\"fill: none; stroke: #000000; stroke-width: 0.8; stroke-linejoin: miter; stroke-linecap: square\"/>\n   </g>\n   <g id=\"text_11\">\n    <!-- Rotation by 36 degrees. -->\n    <g transform=\"translate(110.663625 19.965375)scale(0.168 -0.168)\">\n     <defs>\n      <path id=\"DejaVuSans-52\" d=\"M 2841 2188 \nQ 3044 2119 3236 1894 \nQ 3428 1669 3622 1275 \nL 4263 0 \nL 3584 0 \nL 2988 1197 \nQ 2756 1666 2539 1819 \nQ 2322 1972 1947 1972 \nL 1259 1972 \nL 1259 0 \nL 628 0 \nL 628 4666 \nL 2053 4666 \nQ 2853 4666 3247 4331 \nQ 3641 3997 3641 3322 \nQ 3641 2881 3436 2590 \nQ 3231 2300 2841 2188 \nz\nM 1259 4147 \nL 1259 2491 \nL 2053 2491 \nQ 2509 2491 2742 2702 \nQ 2975 2913 2975 3322 \nQ 2975 3731 2742 3939 \nQ 2509 4147 2053 4147 \nL 1259 4147 \nz\n\" transform=\"scale(0.015625)\"/>\n      <path id=\"DejaVuSans-6f\" d=\"M 1959 3097 \nQ 1497 3097 1228 2736 \nQ 959 2375 959 1747 \nQ 959 1119 1226 758 \nQ 1494 397 1959 397 \nQ 2419 397 2687 759 \nQ 2956 1122 2956 1747 \nQ 2956 2369 2687 2733 \nQ 2419 3097 1959 3097 \nz\nM 1959 3584 \nQ 2709 3584 3137 3096 \nQ 3566 2609 3566 1747 \nQ 3566 888 3137 398 \nQ 2709 -91 1959 -91 \nQ 1206 -91 779 398 \nQ 353 888 353 1747 \nQ 353 2609 779 3096 \nQ 1206 3584 1959 3584 \nz\n\" transform=\"scale(0.015625)\"/>\n      <path id=\"DejaVuSans-74\" d=\"M 1172 4494 \nL 1172 3500 \nL 2356 3500 \nL 2356 3053 \nL 1172 3053 \nL 1172 1153 \nQ 1172 725 1289 603 \nQ 1406 481 1766 481 \nL 2356 481 \nL 2356 0 \nL 1766 0 \nQ 1100 0 847 248 \nQ 594 497 594 1153 \nL 594 3053 \nL 172 3053 \nL 172 3500 \nL 594 3500 \nL 594 4494 \nL 1172 4494 \nz\n\" transform=\"scale(0.015625)\"/>\n      <path id=\"DejaVuSans-61\" d=\"M 2194 1759 \nQ 1497 1759 1228 1600 \nQ 959 1441 959 1056 \nQ 959 750 1161 570 \nQ 1363 391 1709 391 \nQ 2188 391 2477 730 \nQ 2766 1069 2766 1631 \nL 2766 1759 \nL 2194 1759 \nz\nM 3341 1997 \nL 3341 0 \nL 2766 0 \nL 2766 531 \nQ 2569 213 2275 61 \nQ 1981 -91 1556 -91 \nQ 1019 -91 701 211 \nQ 384 513 384 1019 \nQ 384 1609 779 1909 \nQ 1175 2209 1959 2209 \nL 2766 2209 \nL 2766 2266 \nQ 2766 2663 2505 2880 \nQ 2244 3097 1772 3097 \nQ 1472 3097 1187 3025 \nQ 903 2953 641 2809 \nL 641 3341 \nQ 956 3463 1253 3523 \nQ 1550 3584 1831 3584 \nQ 2591 3584 2966 3190 \nQ 3341 2797 3341 1997 \nz\n\" transform=\"scale(0.015625)\"/>\n      <path id=\"DejaVuSans-69\" d=\"M 603 3500 \nL 1178 3500 \nL 1178 0 \nL 603 0 \nL 603 3500 \nz\nM 603 4863 \nL 1178 4863 \nL 1178 4134 \nL 603 4134 \nL 603 4863 \nz\n\" transform=\"scale(0.015625)\"/>\n      <path id=\"DejaVuSans-6e\" d=\"M 3513 2113 \nL 3513 0 \nL 2938 0 \nL 2938 2094 \nQ 2938 2591 2744 2837 \nQ 2550 3084 2163 3084 \nQ 1697 3084 1428 2787 \nQ 1159 2491 1159 1978 \nL 1159 0 \nL 581 0 \nL 581 3500 \nL 1159 3500 \nL 1159 2956 \nQ 1366 3272 1645 3428 \nQ 1925 3584 2291 3584 \nQ 2894 3584 3203 3211 \nQ 3513 2838 3513 2113 \nz\n\" transform=\"scale(0.015625)\"/>\n      <path id=\"DejaVuSans-20\" transform=\"scale(0.015625)\"/>\n      <path id=\"DejaVuSans-62\" d=\"M 3116 1747 \nQ 3116 2381 2855 2742 \nQ 2594 3103 2138 3103 \nQ 1681 3103 1420 2742 \nQ 1159 2381 1159 1747 \nQ 1159 1113 1420 752 \nQ 1681 391 2138 391 \nQ 2594 391 2855 752 \nQ 3116 1113 3116 1747 \nz\nM 1159 2969 \nQ 1341 3281 1617 3432 \nQ 1894 3584 2278 3584 \nQ 2916 3584 3314 3078 \nQ 3713 2572 3713 1747 \nQ 3713 922 3314 415 \nQ 2916 -91 2278 -91 \nQ 1894 -91 1617 61 \nQ 1341 213 1159 525 \nL 1159 0 \nL 581 0 \nL 581 4863 \nL 1159 4863 \nL 1159 2969 \nz\n\" transform=\"scale(0.015625)\"/>\n      <path id=\"DejaVuSans-79\" d=\"M 2059 -325 \nQ 1816 -950 1584 -1140 \nQ 1353 -1331 966 -1331 \nL 506 -1331 \nL 506 -850 \nL 844 -850 \nQ 1081 -850 1212 -737 \nQ 1344 -625 1503 -206 \nL 1606 56 \nL 191 3500 \nL 800 3500 \nL 1894 763 \nL 2988 3500 \nL 3597 3500 \nL 2059 -325 \nz\n\" transform=\"scale(0.015625)\"/>\n      <path id=\"DejaVuSans-33\" d=\"M 2597 2516 \nQ 3050 2419 3304 2112 \nQ 3559 1806 3559 1356 \nQ 3559 666 3084 287 \nQ 2609 -91 1734 -91 \nQ 1441 -91 1130 -33 \nQ 819 25 488 141 \nL 488 750 \nQ 750 597 1062 519 \nQ 1375 441 1716 441 \nQ 2309 441 2620 675 \nQ 2931 909 2931 1356 \nQ 2931 1769 2642 2001 \nQ 2353 2234 1838 2234 \nL 1294 2234 \nL 1294 2753 \nL 1863 2753 \nQ 2328 2753 2575 2939 \nQ 2822 3125 2822 3475 \nQ 2822 3834 2567 4026 \nQ 2313 4219 1838 4219 \nQ 1578 4219 1281 4162 \nQ 984 4106 628 3988 \nL 628 4550 \nQ 988 4650 1302 4700 \nQ 1616 4750 1894 4750 \nQ 2613 4750 3031 4423 \nQ 3450 4097 3450 3541 \nQ 3450 3153 3228 2886 \nQ 3006 2619 2597 2516 \nz\n\" transform=\"scale(0.015625)\"/>\n      <path id=\"DejaVuSans-36\" d=\"M 2113 2584 \nQ 1688 2584 1439 2293 \nQ 1191 2003 1191 1497 \nQ 1191 994 1439 701 \nQ 1688 409 2113 409 \nQ 2538 409 2786 701 \nQ 3034 994 3034 1497 \nQ 3034 2003 2786 2293 \nQ 2538 2584 2113 2584 \nz\nM 3366 4563 \nL 3366 3988 \nQ 3128 4100 2886 4159 \nQ 2644 4219 2406 4219 \nQ 1781 4219 1451 3797 \nQ 1122 3375 1075 2522 \nQ 1259 2794 1537 2939 \nQ 1816 3084 2150 3084 \nQ 2853 3084 3261 2657 \nQ 3669 2231 3669 1497 \nQ 3669 778 3244 343 \nQ 2819 -91 2113 -91 \nQ 1303 -91 875 529 \nQ 447 1150 447 2328 \nQ 447 3434 972 4092 \nQ 1497 4750 2381 4750 \nQ 2619 4750 2861 4703 \nQ 3103 4656 3366 4563 \nz\n\" transform=\"scale(0.015625)\"/>\n      <path id=\"DejaVuSans-64\" d=\"M 2906 2969 \nL 2906 4863 \nL 3481 4863 \nL 3481 0 \nL 2906 0 \nL 2906 525 \nQ 2725 213 2448 61 \nQ 2172 -91 1784 -91 \nQ 1150 -91 751 415 \nQ 353 922 353 1747 \nQ 353 2572 751 3078 \nQ 1150 3584 1784 3584 \nQ 2172 3584 2448 3432 \nQ 2725 3281 2906 2969 \nz\nM 947 1747 \nQ 947 1113 1208 752 \nQ 1469 391 1925 391 \nQ 2381 391 2643 752 \nQ 2906 1113 2906 1747 \nQ 2906 2381 2643 2742 \nQ 2381 3103 1925 3103 \nQ 1469 3103 1208 2742 \nQ 947 2381 947 1747 \nz\n\" transform=\"scale(0.015625)\"/>\n      <path id=\"DejaVuSans-65\" d=\"M 3597 1894 \nL 3597 1613 \nL 953 1613 \nQ 991 1019 1311 708 \nQ 1631 397 2203 397 \nQ 2534 397 2845 478 \nQ 3156 559 3463 722 \nL 3463 178 \nQ 3153 47 2828 -22 \nQ 2503 -91 2169 -91 \nQ 1331 -91 842 396 \nQ 353 884 353 1716 \nQ 353 2575 817 3079 \nQ 1281 3584 2069 3584 \nQ 2775 3584 3186 3129 \nQ 3597 2675 3597 1894 \nz\nM 3022 2063 \nQ 3016 2534 2758 2815 \nQ 2500 3097 2075 3097 \nQ 1594 3097 1305 2825 \nQ 1016 2553 972 2059 \nL 3022 2063 \nz\n\" transform=\"scale(0.015625)\"/>\n      <path id=\"DejaVuSans-67\" d=\"M 2906 1791 \nQ 2906 2416 2648 2759 \nQ 2391 3103 1925 3103 \nQ 1463 3103 1205 2759 \nQ 947 2416 947 1791 \nQ 947 1169 1205 825 \nQ 1463 481 1925 481 \nQ 2391 481 2648 825 \nQ 2906 1169 2906 1791 \nz\nM 3481 434 \nQ 3481 -459 3084 -895 \nQ 2688 -1331 1869 -1331 \nQ 1566 -1331 1297 -1286 \nQ 1028 -1241 775 -1147 \nL 775 -588 \nQ 1028 -725 1275 -790 \nQ 1522 -856 1778 -856 \nQ 2344 -856 2625 -561 \nQ 2906 -266 2906 331 \nL 2906 616 \nQ 2728 306 2450 153 \nQ 2172 0 1784 0 \nQ 1141 0 747 490 \nQ 353 981 353 1791 \nQ 353 2603 747 3093 \nQ 1141 3584 1784 3584 \nQ 2172 3584 2450 3431 \nQ 2728 3278 2906 2969 \nL 2906 3500 \nL 3481 3500 \nL 3481 434 \nz\n\" transform=\"scale(0.015625)\"/>\n      <path id=\"DejaVuSans-72\" d=\"M 2631 2963 \nQ 2534 3019 2420 3045 \nQ 2306 3072 2169 3072 \nQ 1681 3072 1420 2755 \nQ 1159 2438 1159 1844 \nL 1159 0 \nL 581 0 \nL 581 3500 \nL 1159 3500 \nL 1159 2956 \nQ 1341 3275 1631 3429 \nQ 1922 3584 2338 3584 \nQ 2397 3584 2469 3576 \nQ 2541 3569 2628 3553 \nL 2631 2963 \nz\n\" transform=\"scale(0.015625)\"/>\n      <path id=\"DejaVuSans-73\" d=\"M 2834 3397 \nL 2834 2853 \nQ 2591 2978 2328 3040 \nQ 2066 3103 1784 3103 \nQ 1356 3103 1142 2972 \nQ 928 2841 928 2578 \nQ 928 2378 1081 2264 \nQ 1234 2150 1697 2047 \nL 1894 2003 \nQ 2506 1872 2764 1633 \nQ 3022 1394 3022 966 \nQ 3022 478 2636 193 \nQ 2250 -91 1575 -91 \nQ 1294 -91 989 -36 \nQ 684 19 347 128 \nL 347 722 \nQ 666 556 975 473 \nQ 1284 391 1588 391 \nQ 1994 391 2212 530 \nQ 2431 669 2431 922 \nQ 2431 1156 2273 1281 \nQ 2116 1406 1581 1522 \nL 1381 1569 \nQ 847 1681 609 1914 \nQ 372 2147 372 2553 \nQ 372 3047 722 3315 \nQ 1072 3584 1716 3584 \nQ 2034 3584 2315 3537 \nQ 2597 3491 2834 3397 \nz\n\" transform=\"scale(0.015625)\"/>\n     </defs>\n     <use xlink:href=\"#DejaVuSans-52\"/>\n     <use xlink:href=\"#DejaVuSans-6f\" x=\"64.982422\"/>\n     <use xlink:href=\"#DejaVuSans-74\" x=\"126.164062\"/>\n     <use xlink:href=\"#DejaVuSans-61\" x=\"165.373047\"/>\n     <use xlink:href=\"#DejaVuSans-74\" x=\"226.652344\"/>\n     <use xlink:href=\"#DejaVuSans-69\" x=\"265.861328\"/>\n     <use xlink:href=\"#DejaVuSans-6f\" x=\"293.644531\"/>\n     <use xlink:href=\"#DejaVuSans-6e\" x=\"354.826172\"/>\n     <use xlink:href=\"#DejaVuSans-20\" x=\"418.205078\"/>\n     <use xlink:href=\"#DejaVuSans-62\" x=\"449.992188\"/>\n     <use xlink:href=\"#DejaVuSans-79\" x=\"513.46875\"/>\n     <use xlink:href=\"#DejaVuSans-20\" x=\"572.648438\"/>\n     <use xlink:href=\"#DejaVuSans-33\" x=\"604.435547\"/>\n     <use xlink:href=\"#DejaVuSans-36\" x=\"668.058594\"/>\n     <use xlink:href=\"#DejaVuSans-20\" x=\"731.681641\"/>\n     <use xlink:href=\"#DejaVuSans-64\" x=\"763.46875\"/>\n     <use xlink:href=\"#DejaVuSans-65\" x=\"826.945312\"/>\n     <use xlink:href=\"#DejaVuSans-67\" x=\"888.46875\"/>\n     <use xlink:href=\"#DejaVuSans-72\" x=\"951.945312\"/>\n     <use xlink:href=\"#DejaVuSans-65\" x=\"990.808594\"/>\n     <use xlink:href=\"#DejaVuSans-65\" x=\"1052.332031\"/>\n     <use xlink:href=\"#DejaVuSans-73\" x=\"1113.855469\"/>\n     <use xlink:href=\"#DejaVuSans-2e\" x=\"1165.955078\"/>\n    </g>\n   </g>\n   <g id=\"legend_1\">\n    <g id=\"patch_7\">\n     <path d=\"M 232.625625 78.264125 \nL 364.555938 78.264125 \nQ 367.355938 78.264125 367.355938 75.464125 \nL 367.355938 35.765375 \nQ 367.355938 32.965375 364.555938 32.965375 \nL 232.625625 32.965375 \nQ 229.825625 32.965375 229.825625 35.765375 \nL 229.825625 75.464125 \nQ 229.825625 78.264125 232.625625 78.264125 \nz\n\" style=\"fill: #ffffff; opacity: 0.8; stroke: #cccccc; stroke-linejoin: miter\"/>\n    </g>\n    <g id=\"line2d_13\">\n     <g>\n      <use xlink:href=\"#m62d8353891\" x=\"249.425625\" y=\"44.303187\" style=\"stroke: #000000\"/>\n     </g>\n    </g>\n    <g id=\"text_12\">\n     <!-- Original -->\n     <g transform=\"translate(274.625625 49.203187)scale(0.14 -0.14)\">\n      <defs>\n       <path id=\"DejaVuSans-4f\" d=\"M 2522 4238 \nQ 1834 4238 1429 3725 \nQ 1025 3213 1025 2328 \nQ 1025 1447 1429 934 \nQ 1834 422 2522 422 \nQ 3209 422 3611 934 \nQ 4013 1447 4013 2328 \nQ 4013 3213 3611 3725 \nQ 3209 4238 2522 4238 \nz\nM 2522 4750 \nQ 3503 4750 4090 4092 \nQ 4678 3434 4678 2328 \nQ 4678 1225 4090 567 \nQ 3503 -91 2522 -91 \nQ 1538 -91 948 565 \nQ 359 1222 359 2328 \nQ 359 3434 948 4092 \nQ 1538 4750 2522 4750 \nz\n\" transform=\"scale(0.015625)\"/>\n       <path id=\"DejaVuSans-6c\" d=\"M 603 4863 \nL 1178 4863 \nL 1178 0 \nL 603 0 \nL 603 4863 \nz\n\" transform=\"scale(0.015625)\"/>\n      </defs>\n      <use xlink:href=\"#DejaVuSans-4f\"/>\n      <use xlink:href=\"#DejaVuSans-72\" x=\"78.710938\"/>\n      <use xlink:href=\"#DejaVuSans-69\" x=\"119.824219\"/>\n      <use xlink:href=\"#DejaVuSans-67\" x=\"147.607422\"/>\n      <use xlink:href=\"#DejaVuSans-69\" x=\"211.083984\"/>\n      <use xlink:href=\"#DejaVuSans-6e\" x=\"238.867188\"/>\n      <use xlink:href=\"#DejaVuSans-61\" x=\"302.246094\"/>\n      <use xlink:href=\"#DejaVuSans-6c\" x=\"363.525391\"/>\n     </g>\n    </g>\n    <g id=\"line2d_14\">\n     <g>\n      <use xlink:href=\"#ma6f60cc015\" x=\"249.425625\" y=\"64.852562\" style=\"fill: #b2b2b2; stroke: #b2b2b2; stroke-linejoin: miter\"/>\n     </g>\n    </g>\n    <g id=\"text_13\">\n     <!-- Transformed -->\n     <g transform=\"translate(274.625625 69.752562)scale(0.14 -0.14)\">\n      <defs>\n       <path id=\"DejaVuSans-54\" d=\"M -19 4666 \nL 3928 4666 \nL 3928 4134 \nL 2272 4134 \nL 2272 0 \nL 1638 0 \nL 1638 4134 \nL -19 4134 \nL -19 4666 \nz\n\" transform=\"scale(0.015625)\"/>\n       <path id=\"DejaVuSans-66\" d=\"M 2375 4863 \nL 2375 4384 \nL 1825 4384 \nQ 1516 4384 1395 4259 \nQ 1275 4134 1275 3809 \nL 1275 3500 \nL 2222 3500 \nL 2222 3053 \nL 1275 3053 \nL 1275 0 \nL 697 0 \nL 697 3053 \nL 147 3053 \nL 147 3500 \nL 697 3500 \nL 697 3744 \nQ 697 4328 969 4595 \nQ 1241 4863 1831 4863 \nL 2375 4863 \nz\n\" transform=\"scale(0.015625)\"/>\n       <path id=\"DejaVuSans-6d\" d=\"M 3328 2828 \nQ 3544 3216 3844 3400 \nQ 4144 3584 4550 3584 \nQ 5097 3584 5394 3201 \nQ 5691 2819 5691 2113 \nL 5691 0 \nL 5113 0 \nL 5113 2094 \nQ 5113 2597 4934 2840 \nQ 4756 3084 4391 3084 \nQ 3944 3084 3684 2787 \nQ 3425 2491 3425 1978 \nL 3425 0 \nL 2847 0 \nL 2847 2094 \nQ 2847 2600 2669 2842 \nQ 2491 3084 2119 3084 \nQ 1678 3084 1418 2786 \nQ 1159 2488 1159 1978 \nL 1159 0 \nL 581 0 \nL 581 3500 \nL 1159 3500 \nL 1159 2956 \nQ 1356 3278 1631 3431 \nQ 1906 3584 2284 3584 \nQ 2666 3584 2933 3390 \nQ 3200 3197 3328 2828 \nz\n\" transform=\"scale(0.015625)\"/>\n      </defs>\n      <use xlink:href=\"#DejaVuSans-54\"/>\n      <use xlink:href=\"#DejaVuSans-72\" x=\"46.333984\"/>\n      <use xlink:href=\"#DejaVuSans-61\" x=\"87.447266\"/>\n      <use xlink:href=\"#DejaVuSans-6e\" x=\"148.726562\"/>\n      <use xlink:href=\"#DejaVuSans-73\" x=\"212.105469\"/>\n      <use xlink:href=\"#DejaVuSans-66\" x=\"264.205078\"/>\n      <use xlink:href=\"#DejaVuSans-6f\" x=\"299.410156\"/>\n      <use xlink:href=\"#DejaVuSans-72\" x=\"360.591797\"/>\n      <use xlink:href=\"#DejaVuSans-6d\" x=\"399.955078\"/>\n      <use xlink:href=\"#DejaVuSans-65\" x=\"497.367188\"/>\n      <use xlink:href=\"#DejaVuSans-64\" x=\"558.890625\"/>\n     </g>\n    </g>\n   </g>\n  </g>\n </g>\n <defs>\n  <clipPath id=\"p773c7c3ffc\">\n   <rect x=\"48.195938\" y=\"25.965375\" width=\"326.16\" height=\"326.16\"/>\n  </clipPath>\n </defs>\n</svg>\n"
     },
     "metadata": {
      "needs_background": "light"
     },
     "output_type": "display_data"
    }
   ],
   "source": [
    "\n",
    "# Pure rotation matrix\n",
    "\n",
    "# angle to rotate by\n",
    "th = np.pi/5\n",
    "\n",
    "# transformation matrix\n",
    "T = np.array([\n",
    "              [ np.cos(th),np.sin(th)],\n",
    "              [-np.sin(th),np.cos(th)]\n",
    "            ])\n",
    "\n",
    "# original dots are a vertical line\n",
    "x = np.linspace(-1,1,20)\n",
    "origPoints = np.vstack( (np.zeros(x.shape),x) )\n",
    "\n",
    "\n",
    "# apply the transformation\n",
    "transformedPoints = T @ origPoints\n",
    "\n",
    "\n",
    "# plot the points\n",
    "plt.figure(figsize=(6,6))\n",
    "plt.plot(origPoints[0,:],origPoints[1,:],'ko',label='Original')\n",
    "plt.plot(transformedPoints[0,:],transformedPoints[1,:],'s',color=[.7,.7,.7],label='Transformed')\n",
    "\n",
    "plt.axis('square')\n",
    "plt.xlim([-1.2,1.2])\n",
    "plt.ylim([-1.2,1.2])\n",
    "plt.legend()\n",
    "plt.title(f'Rotation by {np.rad2deg(th):.0f} degrees.')\n",
    "plt.savefig('Figure_06_02.png',dpi=300)\n",
    "plt.show()"
   ],
   "metadata": {
    "collapsed": false
   }
  },
  {
   "cell_type": "code",
   "execution_count": 52,
   "outputs": [
    {
     "data": {
      "text/plain": "<Figure size 432x432 with 1 Axes>",
      "image/svg+xml": "<?xml version=\"1.0\" encoding=\"utf-8\" standalone=\"no\"?>\n<!DOCTYPE svg PUBLIC \"-//W3C//DTD SVG 1.1//EN\"\n  \"http://www.w3.org/Graphics/SVG/1.1/DTD/svg11.dtd\">\n<svg xmlns:xlink=\"http://www.w3.org/1999/xlink\" width=\"390.195937pt\" height=\"361.109375pt\" viewBox=\"0 0 390.195937 361.109375\" xmlns=\"http://www.w3.org/2000/svg\" version=\"1.1\">\n <metadata>\n  <rdf:RDF xmlns:dc=\"http://purl.org/dc/elements/1.1/\" xmlns:cc=\"http://creativecommons.org/ns#\" xmlns:rdf=\"http://www.w3.org/1999/02/22-rdf-syntax-ns#\">\n   <cc:Work>\n    <dc:type rdf:resource=\"http://purl.org/dc/dcmitype/StillImage\"/>\n    <dc:date>2024-11-17T12:37:16.501694</dc:date>\n    <dc:format>image/svg+xml</dc:format>\n    <dc:creator>\n     <cc:Agent>\n      <dc:title>Matplotlib v3.5.1, https://matplotlib.org/</dc:title>\n     </cc:Agent>\n    </dc:creator>\n   </cc:Work>\n  </rdf:RDF>\n </metadata>\n <defs>\n  <style type=\"text/css\">*{stroke-linejoin: round; stroke-linecap: butt}</style>\n </defs>\n <g id=\"figure_1\">\n  <g id=\"patch_1\">\n   <path d=\"M 0 361.109375 \nL 390.195937 361.109375 \nL 390.195937 0 \nL 0 0 \nL 0 361.109375 \nz\n\" style=\"fill: none\"/>\n  </g>\n  <g id=\"axes_1\">\n   <g id=\"patch_2\">\n    <path d=\"M 48.195938 333.36 \nL 382.995938 333.36 \nL 382.995938 7.2 \nL 48.195938 7.2 \nz\n\" style=\"fill: #ffffff\"/>\n   </g>\n   <g id=\"matplotlib.axis_1\">\n    <g id=\"xtick_1\">\n     <g id=\"line2d_1\">\n      <defs>\n       <path id=\"m7d0577a1ed\" d=\"M 0 0 \nL 0 3.5 \n\" style=\"stroke: #000000; stroke-width: 0.8\"/>\n      </defs>\n      <g>\n       <use xlink:href=\"#m7d0577a1ed\" x=\"76.095938\" y=\"333.36\" style=\"stroke: #000000; stroke-width: 0.8\"/>\n      </g>\n     </g>\n     <g id=\"text_1\">\n      <!-- −1.0 -->\n      <g transform=\"translate(59.097969 350.997813)scale(0.14 -0.14)\">\n       <defs>\n        <path id=\"DejaVuSans-2212\" d=\"M 678 2272 \nL 4684 2272 \nL 4684 1741 \nL 678 1741 \nL 678 2272 \nz\n\" transform=\"scale(0.015625)\"/>\n        <path id=\"DejaVuSans-31\" d=\"M 794 531 \nL 1825 531 \nL 1825 4091 \nL 703 3866 \nL 703 4441 \nL 1819 4666 \nL 2450 4666 \nL 2450 531 \nL 3481 531 \nL 3481 0 \nL 794 0 \nL 794 531 \nz\n\" transform=\"scale(0.015625)\"/>\n        <path id=\"DejaVuSans-2e\" d=\"M 684 794 \nL 1344 794 \nL 1344 0 \nL 684 0 \nL 684 794 \nz\n\" transform=\"scale(0.015625)\"/>\n        <path id=\"DejaVuSans-30\" d=\"M 2034 4250 \nQ 1547 4250 1301 3770 \nQ 1056 3291 1056 2328 \nQ 1056 1369 1301 889 \nQ 1547 409 2034 409 \nQ 2525 409 2770 889 \nQ 3016 1369 3016 2328 \nQ 3016 3291 2770 3770 \nQ 2525 4250 2034 4250 \nz\nM 2034 4750 \nQ 2819 4750 3233 4129 \nQ 3647 3509 3647 2328 \nQ 3647 1150 3233 529 \nQ 2819 -91 2034 -91 \nQ 1250 -91 836 529 \nQ 422 1150 422 2328 \nQ 422 3509 836 4129 \nQ 1250 4750 2034 4750 \nz\n\" transform=\"scale(0.015625)\"/>\n       </defs>\n       <use xlink:href=\"#DejaVuSans-2212\"/>\n       <use xlink:href=\"#DejaVuSans-31\" x=\"83.789062\"/>\n       <use xlink:href=\"#DejaVuSans-2e\" x=\"147.412109\"/>\n       <use xlink:href=\"#DejaVuSans-30\" x=\"179.199219\"/>\n      </g>\n     </g>\n    </g>\n    <g id=\"xtick_2\">\n     <g id=\"line2d_2\">\n      <g>\n       <use xlink:href=\"#m7d0577a1ed\" x=\"145.845938\" y=\"333.36\" style=\"stroke: #000000; stroke-width: 0.8\"/>\n      </g>\n     </g>\n     <g id=\"text_2\">\n      <!-- −0.5 -->\n      <g transform=\"translate(128.847969 350.997813)scale(0.14 -0.14)\">\n       <defs>\n        <path id=\"DejaVuSans-35\" d=\"M 691 4666 \nL 3169 4666 \nL 3169 4134 \nL 1269 4134 \nL 1269 2991 \nQ 1406 3038 1543 3061 \nQ 1681 3084 1819 3084 \nQ 2600 3084 3056 2656 \nQ 3513 2228 3513 1497 \nQ 3513 744 3044 326 \nQ 2575 -91 1722 -91 \nQ 1428 -91 1123 -41 \nQ 819 9 494 109 \nL 494 744 \nQ 775 591 1075 516 \nQ 1375 441 1709 441 \nQ 2250 441 2565 725 \nQ 2881 1009 2881 1497 \nQ 2881 1984 2565 2268 \nQ 2250 2553 1709 2553 \nQ 1456 2553 1204 2497 \nQ 953 2441 691 2322 \nL 691 4666 \nz\n\" transform=\"scale(0.015625)\"/>\n       </defs>\n       <use xlink:href=\"#DejaVuSans-2212\"/>\n       <use xlink:href=\"#DejaVuSans-30\" x=\"83.789062\"/>\n       <use xlink:href=\"#DejaVuSans-2e\" x=\"147.412109\"/>\n       <use xlink:href=\"#DejaVuSans-35\" x=\"179.199219\"/>\n      </g>\n     </g>\n    </g>\n    <g id=\"xtick_3\">\n     <g id=\"line2d_3\">\n      <g>\n       <use xlink:href=\"#m7d0577a1ed\" x=\"215.595938\" y=\"333.36\" style=\"stroke: #000000; stroke-width: 0.8\"/>\n      </g>\n     </g>\n     <g id=\"text_3\">\n      <!-- 0.0 -->\n      <g transform=\"translate(204.46375 350.997813)scale(0.14 -0.14)\">\n       <use xlink:href=\"#DejaVuSans-30\"/>\n       <use xlink:href=\"#DejaVuSans-2e\" x=\"63.623047\"/>\n       <use xlink:href=\"#DejaVuSans-30\" x=\"95.410156\"/>\n      </g>\n     </g>\n    </g>\n    <g id=\"xtick_4\">\n     <g id=\"line2d_4\">\n      <g>\n       <use xlink:href=\"#m7d0577a1ed\" x=\"285.345937\" y=\"333.36\" style=\"stroke: #000000; stroke-width: 0.8\"/>\n      </g>\n     </g>\n     <g id=\"text_4\">\n      <!-- 0.5 -->\n      <g transform=\"translate(274.21375 350.997813)scale(0.14 -0.14)\">\n       <use xlink:href=\"#DejaVuSans-30\"/>\n       <use xlink:href=\"#DejaVuSans-2e\" x=\"63.623047\"/>\n       <use xlink:href=\"#DejaVuSans-35\" x=\"95.410156\"/>\n      </g>\n     </g>\n    </g>\n    <g id=\"xtick_5\">\n     <g id=\"line2d_5\">\n      <g>\n       <use xlink:href=\"#m7d0577a1ed\" x=\"355.095937\" y=\"333.36\" style=\"stroke: #000000; stroke-width: 0.8\"/>\n      </g>\n     </g>\n     <g id=\"text_5\">\n      <!-- 1.0 -->\n      <g transform=\"translate(343.96375 350.997813)scale(0.14 -0.14)\">\n       <use xlink:href=\"#DejaVuSans-31\"/>\n       <use xlink:href=\"#DejaVuSans-2e\" x=\"63.623047\"/>\n       <use xlink:href=\"#DejaVuSans-30\" x=\"95.410156\"/>\n      </g>\n     </g>\n    </g>\n   </g>\n   <g id=\"matplotlib.axis_2\">\n    <g id=\"ytick_1\">\n     <g id=\"line2d_6\">\n      <defs>\n       <path id=\"m288515c082\" d=\"M 0 0 \nL -3.5 0 \n\" style=\"stroke: #000000; stroke-width: 0.8\"/>\n      </defs>\n      <g>\n       <use xlink:href=\"#m288515c082\" x=\"48.195938\" y=\"306.18\" style=\"stroke: #000000; stroke-width: 0.8\"/>\n      </g>\n     </g>\n     <g id=\"text_6\">\n      <!-- −1.0 -->\n      <g transform=\"translate(7.2 311.498906)scale(0.14 -0.14)\">\n       <use xlink:href=\"#DejaVuSans-2212\"/>\n       <use xlink:href=\"#DejaVuSans-31\" x=\"83.789062\"/>\n       <use xlink:href=\"#DejaVuSans-2e\" x=\"147.412109\"/>\n       <use xlink:href=\"#DejaVuSans-30\" x=\"179.199219\"/>\n      </g>\n     </g>\n    </g>\n    <g id=\"ytick_2\">\n     <g id=\"line2d_7\">\n      <g>\n       <use xlink:href=\"#m288515c082\" x=\"48.195938\" y=\"238.23\" style=\"stroke: #000000; stroke-width: 0.8\"/>\n      </g>\n     </g>\n     <g id=\"text_7\">\n      <!-- −0.5 -->\n      <g transform=\"translate(7.2 243.548906)scale(0.14 -0.14)\">\n       <use xlink:href=\"#DejaVuSans-2212\"/>\n       <use xlink:href=\"#DejaVuSans-30\" x=\"83.789062\"/>\n       <use xlink:href=\"#DejaVuSans-2e\" x=\"147.412109\"/>\n       <use xlink:href=\"#DejaVuSans-35\" x=\"179.199219\"/>\n      </g>\n     </g>\n    </g>\n    <g id=\"ytick_3\">\n     <g id=\"line2d_8\">\n      <g>\n       <use xlink:href=\"#m288515c082\" x=\"48.195938\" y=\"170.28\" style=\"stroke: #000000; stroke-width: 0.8\"/>\n      </g>\n     </g>\n     <g id=\"text_8\">\n      <!-- 0.0 -->\n      <g transform=\"translate(18.931563 175.598906)scale(0.14 -0.14)\">\n       <use xlink:href=\"#DejaVuSans-30\"/>\n       <use xlink:href=\"#DejaVuSans-2e\" x=\"63.623047\"/>\n       <use xlink:href=\"#DejaVuSans-30\" x=\"95.410156\"/>\n      </g>\n     </g>\n    </g>\n    <g id=\"ytick_4\">\n     <g id=\"line2d_9\">\n      <g>\n       <use xlink:href=\"#m288515c082\" x=\"48.195938\" y=\"102.33\" style=\"stroke: #000000; stroke-width: 0.8\"/>\n      </g>\n     </g>\n     <g id=\"text_9\">\n      <!-- 0.5 -->\n      <g transform=\"translate(18.931563 107.648906)scale(0.14 -0.14)\">\n       <use xlink:href=\"#DejaVuSans-30\"/>\n       <use xlink:href=\"#DejaVuSans-2e\" x=\"63.623047\"/>\n       <use xlink:href=\"#DejaVuSans-35\" x=\"95.410156\"/>\n      </g>\n     </g>\n    </g>\n    <g id=\"ytick_5\">\n     <g id=\"line2d_10\">\n      <g>\n       <use xlink:href=\"#m288515c082\" x=\"48.195938\" y=\"34.38\" style=\"stroke: #000000; stroke-width: 0.8\"/>\n      </g>\n     </g>\n     <g id=\"text_10\">\n      <!-- 1.0 -->\n      <g transform=\"translate(18.931563 39.698906)scale(0.14 -0.14)\">\n       <use xlink:href=\"#DejaVuSans-31\"/>\n       <use xlink:href=\"#DejaVuSans-2e\" x=\"63.623047\"/>\n       <use xlink:href=\"#DejaVuSans-30\" x=\"95.410156\"/>\n      </g>\n     </g>\n    </g>\n   </g>\n   <g id=\"line2d_11\">\n    <defs>\n     <path id=\"ma18b4cf03a\" d=\"M 0 3 \nC 0.795609 3 1.55874 2.683901 2.12132 2.12132 \nC 2.683901 1.55874 3 0.795609 3 0 \nC 3 -0.795609 2.683901 -1.55874 2.12132 -2.12132 \nC 1.55874 -2.683901 0.795609 -3 0 -3 \nC -0.795609 -3 -1.55874 -2.683901 -2.12132 -2.12132 \nC -2.683901 -1.55874 -3 -0.795609 -3 0 \nC -3 0.795609 -2.683901 1.55874 -2.12132 2.12132 \nC -1.55874 2.683901 -0.795609 3 0 3 \nz\n\" style=\"stroke: #000000\"/>\n    </defs>\n    <g clip-path=\"url(#pb90610f5da)\">\n     <use xlink:href=\"#ma18b4cf03a\" x=\"76.095938\" y=\"170.28\" style=\"stroke: #000000\"/>\n     <use xlink:href=\"#ma18b4cf03a\" x=\"90.780148\" y=\"170.28\" style=\"stroke: #000000\"/>\n     <use xlink:href=\"#ma18b4cf03a\" x=\"105.464359\" y=\"170.28\" style=\"stroke: #000000\"/>\n     <use xlink:href=\"#ma18b4cf03a\" x=\"120.148569\" y=\"170.28\" style=\"stroke: #000000\"/>\n     <use xlink:href=\"#ma18b4cf03a\" x=\"134.83278\" y=\"170.28\" style=\"stroke: #000000\"/>\n     <use xlink:href=\"#ma18b4cf03a\" x=\"149.51699\" y=\"170.28\" style=\"stroke: #000000\"/>\n     <use xlink:href=\"#ma18b4cf03a\" x=\"164.201201\" y=\"170.28\" style=\"stroke: #000000\"/>\n     <use xlink:href=\"#ma18b4cf03a\" x=\"178.885411\" y=\"170.28\" style=\"stroke: #000000\"/>\n     <use xlink:href=\"#ma18b4cf03a\" x=\"193.569622\" y=\"170.28\" style=\"stroke: #000000\"/>\n     <use xlink:href=\"#ma18b4cf03a\" x=\"208.253832\" y=\"170.28\" style=\"stroke: #000000\"/>\n     <use xlink:href=\"#ma18b4cf03a\" x=\"222.938043\" y=\"170.28\" style=\"stroke: #000000\"/>\n     <use xlink:href=\"#ma18b4cf03a\" x=\"237.622253\" y=\"170.28\" style=\"stroke: #000000\"/>\n     <use xlink:href=\"#ma18b4cf03a\" x=\"252.306464\" y=\"170.28\" style=\"stroke: #000000\"/>\n     <use xlink:href=\"#ma18b4cf03a\" x=\"266.990674\" y=\"170.28\" style=\"stroke: #000000\"/>\n     <use xlink:href=\"#ma18b4cf03a\" x=\"281.674885\" y=\"170.28\" style=\"stroke: #000000\"/>\n     <use xlink:href=\"#ma18b4cf03a\" x=\"296.359095\" y=\"170.28\" style=\"stroke: #000000\"/>\n     <use xlink:href=\"#ma18b4cf03a\" x=\"311.043306\" y=\"170.28\" style=\"stroke: #000000\"/>\n     <use xlink:href=\"#ma18b4cf03a\" x=\"325.727516\" y=\"170.28\" style=\"stroke: #000000\"/>\n     <use xlink:href=\"#ma18b4cf03a\" x=\"340.411727\" y=\"170.28\" style=\"stroke: #000000\"/>\n     <use xlink:href=\"#ma18b4cf03a\" x=\"355.095937\" y=\"170.28\" style=\"stroke: #000000\"/>\n    </g>\n   </g>\n   <g id=\"line2d_12\">\n    <defs>\n     <path id=\"m9cfcbf1bea\" d=\"M -3 3 \nL 3 3 \nL 3 -3 \nL -3 -3 \nz\n\" style=\"stroke: #b2b2b2; stroke-linejoin: miter\"/>\n    </defs>\n    <g clip-path=\"url(#pb90610f5da)\">\n     <use xlink:href=\"#m9cfcbf1bea\" x=\"84.508817\" y=\"123.799463\" style=\"fill: #b2b2b2; stroke: #b2b2b2; stroke-linejoin: miter\"/>\n     <use xlink:href=\"#m9cfcbf1bea\" x=\"98.307461\" y=\"128.692151\" style=\"fill: #b2b2b2; stroke: #b2b2b2; stroke-linejoin: miter\"/>\n     <use xlink:href=\"#m9cfcbf1bea\" x=\"112.106105\" y=\"133.584839\" style=\"fill: #b2b2b2; stroke: #b2b2b2; stroke-linejoin: miter\"/>\n     <use xlink:href=\"#m9cfcbf1bea\" x=\"125.90475\" y=\"138.477527\" style=\"fill: #b2b2b2; stroke: #b2b2b2; stroke-linejoin: miter\"/>\n     <use xlink:href=\"#m9cfcbf1bea\" x=\"139.703394\" y=\"143.370215\" style=\"fill: #b2b2b2; stroke: #b2b2b2; stroke-linejoin: miter\"/>\n     <use xlink:href=\"#m9cfcbf1bea\" x=\"153.502038\" y=\"148.262903\" style=\"fill: #b2b2b2; stroke: #b2b2b2; stroke-linejoin: miter\"/>\n     <use xlink:href=\"#m9cfcbf1bea\" x=\"167.300683\" y=\"153.155591\" style=\"fill: #b2b2b2; stroke: #b2b2b2; stroke-linejoin: miter\"/>\n     <use xlink:href=\"#m9cfcbf1bea\" x=\"181.099327\" y=\"158.04828\" style=\"fill: #b2b2b2; stroke: #b2b2b2; stroke-linejoin: miter\"/>\n     <use xlink:href=\"#m9cfcbf1bea\" x=\"194.897971\" y=\"162.940968\" style=\"fill: #b2b2b2; stroke: #b2b2b2; stroke-linejoin: miter\"/>\n     <use xlink:href=\"#m9cfcbf1bea\" x=\"208.696615\" y=\"167.833656\" style=\"fill: #b2b2b2; stroke: #b2b2b2; stroke-linejoin: miter\"/>\n     <use xlink:href=\"#m9cfcbf1bea\" x=\"222.49526\" y=\"172.726344\" style=\"fill: #b2b2b2; stroke: #b2b2b2; stroke-linejoin: miter\"/>\n     <use xlink:href=\"#m9cfcbf1bea\" x=\"236.293904\" y=\"177.619032\" style=\"fill: #b2b2b2; stroke: #b2b2b2; stroke-linejoin: miter\"/>\n     <use xlink:href=\"#m9cfcbf1bea\" x=\"250.092548\" y=\"182.51172\" style=\"fill: #b2b2b2; stroke: #b2b2b2; stroke-linejoin: miter\"/>\n     <use xlink:href=\"#m9cfcbf1bea\" x=\"263.891192\" y=\"187.404409\" style=\"fill: #b2b2b2; stroke: #b2b2b2; stroke-linejoin: miter\"/>\n     <use xlink:href=\"#m9cfcbf1bea\" x=\"277.689837\" y=\"192.297097\" style=\"fill: #b2b2b2; stroke: #b2b2b2; stroke-linejoin: miter\"/>\n     <use xlink:href=\"#m9cfcbf1bea\" x=\"291.488481\" y=\"197.189785\" style=\"fill: #b2b2b2; stroke: #b2b2b2; stroke-linejoin: miter\"/>\n     <use xlink:href=\"#m9cfcbf1bea\" x=\"305.287125\" y=\"202.082473\" style=\"fill: #b2b2b2; stroke: #b2b2b2; stroke-linejoin: miter\"/>\n     <use xlink:href=\"#m9cfcbf1bea\" x=\"319.08577\" y=\"206.975161\" style=\"fill: #b2b2b2; stroke: #b2b2b2; stroke-linejoin: miter\"/>\n     <use xlink:href=\"#m9cfcbf1bea\" x=\"332.884414\" y=\"211.867849\" style=\"fill: #b2b2b2; stroke: #b2b2b2; stroke-linejoin: miter\"/>\n     <use xlink:href=\"#m9cfcbf1bea\" x=\"346.683058\" y=\"216.760537\" style=\"fill: #b2b2b2; stroke: #b2b2b2; stroke-linejoin: miter\"/>\n    </g>\n   </g>\n   <g id=\"patch_3\">\n    <path d=\"M 48.195938 333.36 \nL 48.195938 7.2 \n\" style=\"fill: none; stroke: #000000; stroke-width: 0.8; stroke-linejoin: miter; stroke-linecap: square\"/>\n   </g>\n   <g id=\"patch_4\">\n    <path d=\"M 382.995938 333.36 \nL 382.995938 7.2 \n\" style=\"fill: none; stroke: #000000; stroke-width: 0.8; stroke-linejoin: miter; stroke-linecap: square\"/>\n   </g>\n   <g id=\"patch_5\">\n    <path d=\"M 48.195938 333.36 \nL 382.995938 333.36 \n\" style=\"fill: none; stroke: #000000; stroke-width: 0.8; stroke-linejoin: miter; stroke-linecap: square\"/>\n   </g>\n   <g id=\"patch_6\">\n    <path d=\"M 48.195938 7.2 \nL 382.995938 7.2 \n\" style=\"fill: none; stroke: #000000; stroke-width: 0.8; stroke-linejoin: miter; stroke-linecap: square\"/>\n   </g>\n  </g>\n </g>\n <defs>\n  <clipPath id=\"pb90610f5da\">\n   <rect x=\"48.195938\" y=\"7.2\" width=\"334.8\" height=\"326.16\"/>\n  </clipPath>\n </defs>\n</svg>\n"
     },
     "metadata": {
      "needs_background": "light"
     },
     "output_type": "display_data"
    }
   ],
   "source": [
    "x = np.linspace(-1,1,20)\n",
    "\n",
    "th = np.radians(20)\n",
    "\n",
    "# transformation matrix\n",
    "T = np.array([\n",
    "              [ np.cos(th),np.sin(th)],\n",
    "              [-np.sin(th),np.cos(th)]\n",
    "            ])\n",
    "\n",
    "line = np.vstack((x,np.zeros(x.shape)))\n",
    "transformLine = T @ line\n",
    "plt.figure(figsize=(6,6))\n",
    "plt.plot(line[0,:],line[1,:],'ko',label='Original')\n",
    "plt.plot(transformLine[0,:],transformLine[1,:],'s',color=[.7,.7,.7],label='Transformed')\n",
    "plt.xlim([-1.2,1.2])\n",
    "plt.ylim([-1.2,1.2])\n",
    "plt.show()"
   ],
   "metadata": {
    "collapsed": false
   }
  },
  {
   "cell_type": "code",
   "execution_count": 13,
   "outputs": [
    {
     "name": "stdout",
     "output_type": "stream",
     "text": [
      "2.718281828459045\n"
     ]
    }
   ],
   "source": [
    "import numpy as np\n",
    "\n",
    "print(np.e)"
   ],
   "metadata": {
    "collapsed": false
   }
  },
  {
   "cell_type": "code",
   "execution_count": null,
   "outputs": [],
   "source": [],
   "metadata": {
    "collapsed": false
   }
  }
 ],
 "metadata": {
  "kernelspec": {
   "display_name": "Python 3",
   "language": "python",
   "name": "python3"
  },
  "language_info": {
   "codemirror_mode": {
    "name": "ipython",
    "version": 2
   },
   "file_extension": ".py",
   "mimetype": "text/x-python",
   "name": "python",
   "nbconvert_exporter": "python",
   "pygments_lexer": "ipython2",
   "version": "2.7.6"
  }
 },
 "nbformat": 4,
 "nbformat_minor": 0
}
