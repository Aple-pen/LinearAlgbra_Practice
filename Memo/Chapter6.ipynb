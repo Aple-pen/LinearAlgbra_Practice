{
 "cells": [
  {
   "cell_type": "markdown",
   "source": [
    "## 피어슨 상관계수 구하기\n",
    "$$ r = \\frac{a \\cdot b}{||a||||b||} $$\n",
    "##### 두개의 변수 벡터사이의 내적을 두벡터 노름의 곱으로 나누어 계산함."
   ],
   "metadata": {
    "collapsed": false
   }
  },
  {
   "cell_type": "code",
   "execution_count": 1,
   "metadata": {
    "collapsed": true
   },
   "outputs": [
    {
     "name": "stdout",
     "output_type": "stream",
     "text": [
      "벡터 a: [1 2 3]\n",
      "벡터 b: [4 5 6]\n",
      "a와 b의 내적: 32\n",
      "a의 노름: 3.7416573867739413\n",
      "b의 노름: 8.774964387392123\n",
      "피어슨 상관계수: 0.9746318461970762\n"
     ]
    }
   ],
   "source": [
    "import numpy as np\n",
    "\n",
    "# 예제 벡터 정의\n",
    "a = np.array([1, 2, 3])\n",
    "b = np.array([4, 5, 6])\n",
    "\n",
    "# 두 벡터의 내적\n",
    "dot_product = np.dot(a, b)\n",
    "\n",
    "# 벡터 a와 b의 노름 계산\n",
    "norm_a = np.linalg.norm(a)\n",
    "norm_b = np.linalg.norm(b)\n",
    "\n",
    "# 피어슨 상관계수 계산\n",
    "pearson_correlation = dot_product / (norm_a * norm_b)\n",
    "\n",
    "# 결과 출력\n",
    "print(\"벡터 a:\", a)\n",
    "print(\"벡터 b:\", b)\n",
    "print(\"a와 b의 내적:\", dot_product)\n",
    "print(\"a의 노름:\", norm_a)\n",
    "print(\"b의 노름:\", norm_b)\n",
    "print(\"피어슨 상관계수:\", pearson_correlation)"
   ]
  },
  {
   "cell_type": "markdown",
   "source": [
    "## Covariance matrix\n",
    "### 공분산 행렬"
   ],
   "metadata": {
    "collapsed": false
   }
  },
  {
   "cell_type": "code",
   "execution_count": 16,
   "outputs": [
    {
     "data": {
      "text/plain": "      state county community        communityname  fold  population  \\\n0         8      ?         ?         Lakewoodcity     1        0.19   \n1        53      ?         ?          Tukwilacity     1        0.00   \n2        24      ?         ?         Aberdeentown     1        0.00   \n3        34      5     81440  Willingborotownship     1        0.04   \n4        42     95      6096    Bethlehemtownship     1        0.01   \n...     ...    ...       ...                  ...   ...         ...   \n1989     12      ?         ?    TempleTerracecity    10        0.01   \n1990      6      ?         ?          Seasidecity    10        0.05   \n1991      9      9     80070        Waterburytown    10        0.16   \n1992     25     17     72600          Walthamcity    10        0.08   \n1993      6      ?         ?          Ontariocity    10        0.20   \n\n      householdsize  racepctblack  racePctWhite  racePctAsian  ...  LandArea  \\\n0              0.33          0.02          0.90          0.12  ...      0.12   \n1              0.16          0.12          0.74          0.45  ...      0.02   \n2              0.42          0.49          0.56          0.17  ...      0.01   \n3              0.77          1.00          0.08          0.12  ...      0.02   \n4              0.55          0.02          0.95          0.09  ...      0.04   \n...             ...           ...           ...           ...  ...       ...   \n1989           0.40          0.10          0.87          0.12  ...      0.01   \n1990           0.96          0.46          0.28          0.83  ...      0.02   \n1991           0.37          0.25          0.69          0.04  ...      0.08   \n1992           0.51          0.06          0.87          0.22  ...      0.03   \n1993           0.78          0.14          0.46          0.24  ...      0.11   \n\n      PopDens  PctUsePubTrans  PolicCars  PolicOperBudg  LemasPctPolicOnPatr  \\\n0        0.26            0.20       0.06           0.04                  0.9   \n1        0.12            0.45          ?              ?                    ?   \n2        0.21            0.02          ?              ?                    ?   \n3        0.39            0.28          ?              ?                    ?   \n4        0.09            0.02          ?              ?                    ?   \n...       ...             ...        ...            ...                  ...   \n1989     0.28            0.05          ?              ?                    ?   \n1990     0.37            0.20          ?              ?                    ?   \n1991     0.32            0.18       0.08           0.06                 0.78   \n1992     0.38            0.33       0.02           0.02                 0.79   \n1993     0.30            0.05       0.08           0.04                 0.73   \n\n      LemasGangUnitDeploy  LemasPctOfficDrugUn  PolicBudgPerPop  \\\n0                     0.5                 0.32             0.14   \n1                       ?                 0.00                ?   \n2                       ?                 0.00                ?   \n3                       ?                 0.00                ?   \n4                       ?                 0.00                ?   \n...                   ...                  ...              ...   \n1989                    ?                 0.00                ?   \n1990                    ?                 0.00                ?   \n1991                    0                 0.91             0.28   \n1992                    0                 0.22             0.18   \n1993                  0.5                 1.00             0.13   \n\n      ViolentCrimesPerPop  \n0                    0.20  \n1                    0.67  \n2                    0.43  \n3                    0.12  \n4                    0.03  \n...                   ...  \n1989                 0.09  \n1990                 0.45  \n1991                 0.23  \n1992                 0.19  \n1993                 0.48  \n\n[1994 rows x 128 columns]",
      "text/html": "<div>\n<style scoped>\n    .dataframe tbody tr th:only-of-type {\n        vertical-align: middle;\n    }\n\n    .dataframe tbody tr th {\n        vertical-align: top;\n    }\n\n    .dataframe thead th {\n        text-align: right;\n    }\n</style>\n<table border=\"1\" class=\"dataframe\">\n  <thead>\n    <tr style=\"text-align: right;\">\n      <th></th>\n      <th>state</th>\n      <th>county</th>\n      <th>community</th>\n      <th>communityname</th>\n      <th>fold</th>\n      <th>population</th>\n      <th>householdsize</th>\n      <th>racepctblack</th>\n      <th>racePctWhite</th>\n      <th>racePctAsian</th>\n      <th>...</th>\n      <th>LandArea</th>\n      <th>PopDens</th>\n      <th>PctUsePubTrans</th>\n      <th>PolicCars</th>\n      <th>PolicOperBudg</th>\n      <th>LemasPctPolicOnPatr</th>\n      <th>LemasGangUnitDeploy</th>\n      <th>LemasPctOfficDrugUn</th>\n      <th>PolicBudgPerPop</th>\n      <th>ViolentCrimesPerPop</th>\n    </tr>\n  </thead>\n  <tbody>\n    <tr>\n      <th>0</th>\n      <td>8</td>\n      <td>?</td>\n      <td>?</td>\n      <td>Lakewoodcity</td>\n      <td>1</td>\n      <td>0.19</td>\n      <td>0.33</td>\n      <td>0.02</td>\n      <td>0.90</td>\n      <td>0.12</td>\n      <td>...</td>\n      <td>0.12</td>\n      <td>0.26</td>\n      <td>0.20</td>\n      <td>0.06</td>\n      <td>0.04</td>\n      <td>0.9</td>\n      <td>0.5</td>\n      <td>0.32</td>\n      <td>0.14</td>\n      <td>0.20</td>\n    </tr>\n    <tr>\n      <th>1</th>\n      <td>53</td>\n      <td>?</td>\n      <td>?</td>\n      <td>Tukwilacity</td>\n      <td>1</td>\n      <td>0.00</td>\n      <td>0.16</td>\n      <td>0.12</td>\n      <td>0.74</td>\n      <td>0.45</td>\n      <td>...</td>\n      <td>0.02</td>\n      <td>0.12</td>\n      <td>0.45</td>\n      <td>?</td>\n      <td>?</td>\n      <td>?</td>\n      <td>?</td>\n      <td>0.00</td>\n      <td>?</td>\n      <td>0.67</td>\n    </tr>\n    <tr>\n      <th>2</th>\n      <td>24</td>\n      <td>?</td>\n      <td>?</td>\n      <td>Aberdeentown</td>\n      <td>1</td>\n      <td>0.00</td>\n      <td>0.42</td>\n      <td>0.49</td>\n      <td>0.56</td>\n      <td>0.17</td>\n      <td>...</td>\n      <td>0.01</td>\n      <td>0.21</td>\n      <td>0.02</td>\n      <td>?</td>\n      <td>?</td>\n      <td>?</td>\n      <td>?</td>\n      <td>0.00</td>\n      <td>?</td>\n      <td>0.43</td>\n    </tr>\n    <tr>\n      <th>3</th>\n      <td>34</td>\n      <td>5</td>\n      <td>81440</td>\n      <td>Willingborotownship</td>\n      <td>1</td>\n      <td>0.04</td>\n      <td>0.77</td>\n      <td>1.00</td>\n      <td>0.08</td>\n      <td>0.12</td>\n      <td>...</td>\n      <td>0.02</td>\n      <td>0.39</td>\n      <td>0.28</td>\n      <td>?</td>\n      <td>?</td>\n      <td>?</td>\n      <td>?</td>\n      <td>0.00</td>\n      <td>?</td>\n      <td>0.12</td>\n    </tr>\n    <tr>\n      <th>4</th>\n      <td>42</td>\n      <td>95</td>\n      <td>6096</td>\n      <td>Bethlehemtownship</td>\n      <td>1</td>\n      <td>0.01</td>\n      <td>0.55</td>\n      <td>0.02</td>\n      <td>0.95</td>\n      <td>0.09</td>\n      <td>...</td>\n      <td>0.04</td>\n      <td>0.09</td>\n      <td>0.02</td>\n      <td>?</td>\n      <td>?</td>\n      <td>?</td>\n      <td>?</td>\n      <td>0.00</td>\n      <td>?</td>\n      <td>0.03</td>\n    </tr>\n    <tr>\n      <th>...</th>\n      <td>...</td>\n      <td>...</td>\n      <td>...</td>\n      <td>...</td>\n      <td>...</td>\n      <td>...</td>\n      <td>...</td>\n      <td>...</td>\n      <td>...</td>\n      <td>...</td>\n      <td>...</td>\n      <td>...</td>\n      <td>...</td>\n      <td>...</td>\n      <td>...</td>\n      <td>...</td>\n      <td>...</td>\n      <td>...</td>\n      <td>...</td>\n      <td>...</td>\n      <td>...</td>\n    </tr>\n    <tr>\n      <th>1989</th>\n      <td>12</td>\n      <td>?</td>\n      <td>?</td>\n      <td>TempleTerracecity</td>\n      <td>10</td>\n      <td>0.01</td>\n      <td>0.40</td>\n      <td>0.10</td>\n      <td>0.87</td>\n      <td>0.12</td>\n      <td>...</td>\n      <td>0.01</td>\n      <td>0.28</td>\n      <td>0.05</td>\n      <td>?</td>\n      <td>?</td>\n      <td>?</td>\n      <td>?</td>\n      <td>0.00</td>\n      <td>?</td>\n      <td>0.09</td>\n    </tr>\n    <tr>\n      <th>1990</th>\n      <td>6</td>\n      <td>?</td>\n      <td>?</td>\n      <td>Seasidecity</td>\n      <td>10</td>\n      <td>0.05</td>\n      <td>0.96</td>\n      <td>0.46</td>\n      <td>0.28</td>\n      <td>0.83</td>\n      <td>...</td>\n      <td>0.02</td>\n      <td>0.37</td>\n      <td>0.20</td>\n      <td>?</td>\n      <td>?</td>\n      <td>?</td>\n      <td>?</td>\n      <td>0.00</td>\n      <td>?</td>\n      <td>0.45</td>\n    </tr>\n    <tr>\n      <th>1991</th>\n      <td>9</td>\n      <td>9</td>\n      <td>80070</td>\n      <td>Waterburytown</td>\n      <td>10</td>\n      <td>0.16</td>\n      <td>0.37</td>\n      <td>0.25</td>\n      <td>0.69</td>\n      <td>0.04</td>\n      <td>...</td>\n      <td>0.08</td>\n      <td>0.32</td>\n      <td>0.18</td>\n      <td>0.08</td>\n      <td>0.06</td>\n      <td>0.78</td>\n      <td>0</td>\n      <td>0.91</td>\n      <td>0.28</td>\n      <td>0.23</td>\n    </tr>\n    <tr>\n      <th>1992</th>\n      <td>25</td>\n      <td>17</td>\n      <td>72600</td>\n      <td>Walthamcity</td>\n      <td>10</td>\n      <td>0.08</td>\n      <td>0.51</td>\n      <td>0.06</td>\n      <td>0.87</td>\n      <td>0.22</td>\n      <td>...</td>\n      <td>0.03</td>\n      <td>0.38</td>\n      <td>0.33</td>\n      <td>0.02</td>\n      <td>0.02</td>\n      <td>0.79</td>\n      <td>0</td>\n      <td>0.22</td>\n      <td>0.18</td>\n      <td>0.19</td>\n    </tr>\n    <tr>\n      <th>1993</th>\n      <td>6</td>\n      <td>?</td>\n      <td>?</td>\n      <td>Ontariocity</td>\n      <td>10</td>\n      <td>0.20</td>\n      <td>0.78</td>\n      <td>0.14</td>\n      <td>0.46</td>\n      <td>0.24</td>\n      <td>...</td>\n      <td>0.11</td>\n      <td>0.30</td>\n      <td>0.05</td>\n      <td>0.08</td>\n      <td>0.04</td>\n      <td>0.73</td>\n      <td>0.5</td>\n      <td>1.00</td>\n      <td>0.13</td>\n      <td>0.48</td>\n    </tr>\n  </tbody>\n</table>\n<p>1994 rows × 128 columns</p>\n</div>"
     },
     "execution_count": 16,
     "metadata": {},
     "output_type": "execute_result"
    }
   ],
   "source": [
    "\n",
    "# import libraries\n",
    "import numpy as np\n",
    "import matplotlib.pyplot as plt\n",
    "\n",
    "# setup animation\n",
    "import matplotlib.animation as animation\n",
    "from matplotlib import rc\n",
    "rc('animation', html='jshtml')\n",
    "\n",
    "\n",
    "# to read an image from a url (io) and convert it to grayscale (color)\n",
    "from skimage import io,color\n",
    "# convolution\n",
    "from scipy.signal import convolve2d\n",
    "\n",
    "import pandas as pd\n",
    "\n",
    "# NOTE: these lines define global figure properties used for publication.\n",
    "import matplotlib_inline.backend_inline\n",
    "matplotlib_inline.backend_inline.set_matplotlib_formats('svg') # display figures in vector format\n",
    "plt.rcParams.update({'font.size':14}) # set global font size\n",
    "\n",
    "\n",
    "# read the data into a pandas dataframe\n",
    "url  = 'https://archive.ics.uci.edu/ml/machine-learning-databases/communities/communities.data'\n",
    "data = pd.read_csv(url,sep=',',header=None)\n",
    "\n",
    "# attach column labels (don't worry, I didn't type this all in by hand, lol)\n",
    "data.columns = [ 'state', 'county', 'community', 'communityname', 'fold', 'population', 'householdsize', 'racepctblack', 'racePctWhite',\n",
    "'racePctAsian', 'racePctHisp', 'agePct12t21', 'agePct12t29', 'agePct16t24', 'agePct65up', 'numbUrban', 'pctUrban', 'medIncome', 'pctWWage',\n",
    "'pctWFarmSelf', 'pctWInvInc', 'pctWSocSec', 'pctWPubAsst', 'pctWRetire', 'medFamInc', 'perCapInc', 'whitePerCap', 'blackPerCap', 'indianPerCap',\n",
    "'AsianPerCap', 'OtherPerCap', 'HispPerCap', 'NumUnderPov', 'PctPopUnderPov', 'PctLess9thGrade', 'PctNotHSGrad', 'PctBSorMore', 'PctUnemployed', 'PctEmploy',\n",
    "'PctEmplManu', 'PctEmplProfServ', 'PctOccupManu', 'PctOccupMgmtProf', 'MalePctDivorce', 'MalePctNevMarr', 'FemalePctDiv', 'TotalPctDiv', 'PersPerFam', 'PctFam2Par',\n",
    "'PctKids2Par', 'PctYoungKids2Par', 'PctTeen2Par', 'PctWorkMomYoungKids', 'PctWorkMom', 'NumIlleg', 'PctIlleg', 'NumImmig', 'PctImmigRecent', 'PctImmigRec5',\n",
    "'PctImmigRec8', 'PctImmigRec10', 'PctRecentImmig', 'PctRecImmig5', 'PctRecImmig8', 'PctRecImmig10', 'PctSpeakEnglOnly', 'PctNotSpeakEnglWell', 'PctLargHouseFam', 'PctLargHouseOccup',\n",
    "'PersPerOccupHous', 'PersPerOwnOccHous', 'PersPerRentOccHous', 'PctPersOwnOccup', 'PctPersDenseHous', 'PctHousLess3BR', 'MedNumBR', 'HousVacant', 'PctHousOccup', 'PctHousOwnOcc',\n",
    "'PctVacantBoarded', 'PctVacMore6Mos', 'MedYrHousBuilt', 'PctHousNoPhone', 'PctWOFullPlumb', 'OwnOccLowQuart', 'OwnOccMedVal', 'OwnOccHiQuart', 'RentLowQ', 'RentMedian',\n",
    "'RentHighQ', 'MedRent', 'MedRentPctHousInc', 'MedOwnCostPctInc', 'MedOwnCostPctIncNoMtg', 'NumInShelters', 'NumStreet', 'PctForeignBorn', 'PctBornSameState', 'PctSameHouse85',\n",
    "'PctSameCity85', 'PctSameState85', 'LemasSwornFT', 'LemasSwFTPerPop', 'LemasSwFTFieldOps', 'LemasSwFTFieldPerPop', 'LemasTotalReq', 'LemasTotReqPerPop', 'PolicReqPerOffic', 'PolicPerPop',\n",
    "'RacialMatchCommPol', 'PctPolicWhite', 'PctPolicBlack', 'PctPolicHisp', 'PctPolicAsian', 'PctPolicMinor', 'OfficAssgnDrugUnits', 'NumKindsDrugsSeiz', 'PolicAveOTWorked', 'LandArea',\n",
    "'PopDens', 'PctUsePubTrans', 'PolicCars', 'PolicOperBudg', 'LemasPctPolicOnPatr', 'LemasGangUnitDeploy', 'LemasPctOfficDrugUn', 'PolicBudgPerPop', 'ViolentCrimesPerPop',\n",
    " ]\n",
    "\n",
    "# have a look at the data\n",
    "data\n",
    "\n",
    "\n",
    "# extract only the numeric data\n",
    "# numberDataset = data._get_numeric_data()\n",
    "#\n",
    "# # # drop a few additional columns, and convert to a numpy array\n",
    "# dataMat = numberDataset.drop(['state','fold'],axis=1).values\n",
    "#\n",
    "# datamean = np.mean(dataMat,axis = 0) # 특징 평균 벡터\n",
    "# dataMatM = dataMat - datamean # 브로드캐스트를 이용한 평균 중앙화\n",
    "# covMat = dataMatM.T @ dataMatM / (dataMatM.shape[0]-1)\n",
    "# covMat\n"
   ],
   "metadata": {
    "collapsed": false
   }
  },
  {
   "cell_type": "code",
   "execution_count": 21,
   "outputs": [
    {
     "data": {
      "text/plain": "array([[14.95, 16.91],\n       [16.91, 19.5 ]])"
     },
     "execution_count": 21,
     "metadata": {},
     "output_type": "execute_result"
    }
   ],
   "source": [
    "import numpy as np\n",
    "\n",
    "# 데이터: 각 열이 변수, 각 행이 관측치\n",
    "data = np.array([\n",
    "    [2.5, 2.4],\n",
    "    [0.5, 0.7],\n",
    "    [2.2, 2.9],\n",
    "    [1.9, 2.2],\n",
    "    [3.1, 3.0],\n",
    "    [2.3, 2.7],\n",
    "    [2.0, 1.6],\n",
    "    [1.0, 1.1],\n",
    "    [1.5, 1.6],\n",
    "    [1.1, 0.9]\n",
    "])\n",
    "\n",
    "datamean = np.mean(data,axis = 0)\n",
    "dataM = data - datamean\n",
    "covData = dataM.T @ dataM /(dataM.shape[0] -1)\n",
    "covData\n",
    "\n"
   ],
   "metadata": {
    "collapsed": false
   }
  },
  {
   "cell_type": "markdown",
   "source": [
    "## 공분산과 상관계수 구하기"
   ],
   "metadata": {
    "collapsed": false
   }
  },
  {
   "cell_type": "code",
   "execution_count": 1,
   "outputs": [
    {
     "name": "stdout",
     "output_type": "stream",
     "text": [
      "[[  8.2  45. ]\n",
      " [ 45.  250. ]]\n"
     ]
    }
   ],
   "source": [
    "import numpy as np\n",
    "\n",
    "# 공부 시간 : [2,3,5,9]\n",
    "# 시험 점수 : [50,60,70,80,90]\n",
    "A = np.array([[2,50],[3,60],[5,70],[7,80],[9,90]])\n",
    "\n",
    "# 특징 평균 벡터 계산\n",
    "meanA = np.mean(A,axis=0) # axis=0은 열방향 axis=1은 행방향으로 평균을 냄.\n",
    "meanCenteringA = A - meanA # 평균 중심화 계산\n",
    "\n",
    "convariance = meanCenteringA.T @ meanCenteringA / (A.shape[0] - 1) # 공분산 행렬 계산\n",
    "print(convariance)\n",
    "correlation = convariance[0,1] / (np.sqrt(convariance[0,0]) * np.sqrt(convariance[1,1]))"
   ],
   "metadata": {
    "collapsed": false
   }
  },
  {
   "cell_type": "code",
   "execution_count": null,
   "outputs": [],
   "source": [],
   "metadata": {
    "collapsed": false,
    "pycharm": {
     "is_executing": true
    }
   }
  },
  {
   "cell_type": "code",
   "execution_count": 6,
   "outputs": [],
   "source": [],
   "metadata": {
    "collapsed": false
   }
  }
 ],
 "metadata": {
  "kernelspec": {
   "display_name": "Python 3",
   "language": "python",
   "name": "python3"
  },
  "language_info": {
   "codemirror_mode": {
    "name": "ipython",
    "version": 2
   },
   "file_extension": ".py",
   "mimetype": "text/x-python",
   "name": "python",
   "nbconvert_exporter": "python",
   "pygments_lexer": "ipython2",
   "version": "2.7.6"
  }
 },
 "nbformat": 4,
 "nbformat_minor": 0
}
